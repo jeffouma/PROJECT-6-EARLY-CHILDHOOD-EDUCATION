{
 "cells": [
  {
   "cell_type": "markdown",
   "id": "059e8fa8",
   "metadata": {},
   "source": [
    "## Introduction"
   ]
  },
  {
   "cell_type": "markdown",
   "id": "cd089141",
   "metadata": {},
   "source": [
    "In this notebook, we will be investigating the outliers in our data and attempt to answear the following questionsn:\n",
    "> 1. What features/factors or both are asociated with outliers\n",
    "> 2. How can these outliers be increased"
   ]
  },
  {
   "cell_type": "markdown",
   "id": "e7b444a2",
   "metadata": {},
   "source": [
    "*Def:* Outliers are defined as learners who pay same amout of fees but perform two standard deviation above the expected score of learnes in that group"
   ]
  },
  {
   "cell_type": "markdown",
   "id": "8b136a4f",
   "metadata": {},
   "source": [
    "We have build this notebook based on the information already provided detailing the expected score for all groups\n",
    "> - R0-110 => 33\n",
    "> - R111-290 => 45\n",
    "> - R291-750 => 51\n",
    "> - R751-1750 =>62\n",
    "> - R1751+ => 81"
   ]
  },
  {
   "cell_type": "markdown",
   "id": "9d36d248",
   "metadata": {},
   "source": [
    "## Feature engineering"
   ]
  },
  {
   "cell_type": "code",
   "execution_count": 1,
   "id": "403f7afc",
   "metadata": {},
   "outputs": [],
   "source": [
    "#importing the necessary packages for data processing\n",
    "import pandas as pd\n",
    "import matplotlib.pyplot as plt\n",
    "import numpy as np"
   ]
  },
  {
   "cell_type": "code",
   "execution_count": 3,
   "id": "3020b079",
   "metadata": {},
   "outputs": [],
   "source": [
    "#importing the dataset\n",
    "df = pd.read_stata('DataDrive2030_PD_EXTERNAL_31AUG2022.dta')"
   ]
  },
  {
   "cell_type": "code",
   "execution_count": 4,
   "id": "bac33759",
   "metadata": {},
   "outputs": [],
   "source": [
    "#This funtion will look for empty entries and set them to null\n",
    "def remove_empty(x):\n",
    "    if x == '':\n",
    "        a = None\n",
    "    else:\n",
    "        a = x\n",
    "    return a"
   ]
  },
  {
   "cell_type": "code",
   "execution_count": 6,
   "id": "d374d9ec",
   "metadata": {},
   "outputs": [],
   "source": [
    "#we replace empty enties in all the columns and set them into null\n",
    "for i in df.columns:\n",
    "    df[i] = df[i].apply(lambda x: remove_empty(x))"
   ]
  },
  {
   "cell_type": "code",
   "execution_count": 7,
   "id": "b18c5e2d",
   "metadata": {},
   "outputs": [],
   "source": [
    "#we use thresh-hold of 60% to remove nulls\n",
    "nulls = pd.DataFrame(df.isnull().sum(), columns = ['count']).sort_values(by='count')[::-1]\n",
    "df = df[nulls[912:].index]"
   ]
  },
  {
   "cell_type": "code",
   "execution_count": 10,
   "id": "57942a6f",
   "metadata": {},
   "outputs": [],
   "source": [
    "#we remove null rows as well with a 60% thresh-hold\n",
    "rows = df.T\n",
    "df = rows[pd.DataFrame(rows.isnull().sum(), columns = ['count']).sort_values(by='count')[::-1][3665:].index].T"
   ]
  },
  {
   "cell_type": "code",
   "execution_count": 14,
   "id": "5cc94198",
   "metadata": {},
   "outputs": [],
   "source": [
    "# filtering age to below 60 months (the required age group)\n",
    "df = df[df.child_age < 60]"
   ]
  },
  {
   "cell_type": "code",
   "execution_count": 15,
   "id": "06480682",
   "metadata": {},
   "outputs": [
    {
     "data": {
      "text/plain": [
       "(6735, 375)"
      ]
     },
     "execution_count": 15,
     "metadata": {},
     "output_type": "execute_result"
    }
   ],
   "source": [
    "#we preview the final shape of our data\n",
    "df.shape"
   ]
  },
  {
   "cell_type": "markdown",
   "id": "5cb189f9",
   "metadata": {},
   "source": [
    "We divide this data into three groups\n",
    "> - group one => R0-110\n",
    "> - GROUP TWO => R111-290\n",
    "> - group three => R291-750"
   ]
  },
  {
   "cell_type": "code",
   "execution_count": 16,
   "id": "bef5c8fc",
   "metadata": {},
   "outputs": [],
   "source": [
    "group_one = df[df.ses_cat == 'R0-110']\n",
    "group_two = df[df.ses_cat == 'R111-290']\n",
    "group_three = df[df.ses_cat == 'R291-750']"
   ]
  },
  {
   "cell_type": "markdown",
   "id": "2e8eac72",
   "metadata": {},
   "source": [
    "we create a variable called group check which adds the following:\n",
    "> 1. Group expected ontrack score\n",
    "> 2. Two standard deviation of that group"
   ]
  },
  {
   "cell_type": "code",
   "execution_count": 19,
   "id": "3343a32c",
   "metadata": {},
   "outputs": [],
   "source": [
    "group_one_check = (group_one.child_total_elom.std()*2)+33\n",
    "group_two_check = (group_one.child_total_elom.std()*2)+45\n",
    "group_three_check = (group_one.child_total_elom.std()*2)+51"
   ]
  },
  {
   "cell_type": "code",
   "execution_count": 20,
   "id": "2037f57c",
   "metadata": {},
   "outputs": [
    {
     "name": "stdout",
     "output_type": "stream",
     "text": [
      "goup one threshold: 59.061288070557424\n",
      "goup two threshold: 71.06128807055742\n",
      "goup three threshold: 77.06128807055742\n"
     ]
    }
   ],
   "source": [
    "print(f'goup one threshold: {group_one_check}')\n",
    "print(f'goup two threshold: {group_two_check}')\n",
    "print(f'goup three threshold: {group_three_check}')"
   ]
  },
  {
   "cell_type": "markdown",
   "id": "42db462b",
   "metadata": {},
   "source": [
    "We use the above results to get get our outliers in the dataset"
   ]
  },
  {
   "cell_type": "code",
   "execution_count": 21,
   "id": "2b603e6b",
   "metadata": {},
   "outputs": [
    {
     "name": "stderr",
     "output_type": "stream",
     "text": [
      "C:\\Users\\jeff\\AppData\\Local\\Temp/ipykernel_13356/2405967415.py:1: SettingWithCopyWarning: \n",
      "A value is trying to be set on a copy of a slice from a DataFrame.\n",
      "Try using .loc[row_indexer,col_indexer] = value instead\n",
      "\n",
      "See the caveats in the documentation: https://pandas.pydata.org/pandas-docs/stable/user_guide/indexing.html#returning-a-view-versus-a-copy\n",
      "  group_one['ref'] = group_one.child_total_elom\n",
      "C:\\Users\\jeff\\AppData\\Local\\Temp/ipykernel_13356/2405967415.py:2: SettingWithCopyWarning: \n",
      "A value is trying to be set on a copy of a slice from a DataFrame.\n",
      "Try using .loc[row_indexer,col_indexer] = value instead\n",
      "\n",
      "See the caveats in the documentation: https://pandas.pydata.org/pandas-docs/stable/user_guide/indexing.html#returning-a-view-versus-a-copy\n",
      "  group_two['ref'] = group_two.child_total_elom\n",
      "C:\\Users\\jeff\\AppData\\Local\\Temp/ipykernel_13356/2405967415.py:3: SettingWithCopyWarning: \n",
      "A value is trying to be set on a copy of a slice from a DataFrame.\n",
      "Try using .loc[row_indexer,col_indexer] = value instead\n",
      "\n",
      "See the caveats in the documentation: https://pandas.pydata.org/pandas-docs/stable/user_guide/indexing.html#returning-a-view-versus-a-copy\n",
      "  group_three['ref'] = group_three.child_total_elom\n"
     ]
    }
   ],
   "source": [
    "group_one['ref'] = group_one.child_total_elom\n",
    "group_two['ref'] = group_two.child_total_elom\n",
    "group_three['ref'] = group_three.child_total_elom"
   ]
  },
  {
   "cell_type": "code",
   "execution_count": 22,
   "id": "e01da65d",
   "metadata": {},
   "outputs": [],
   "source": [
    "#This funtion will classify the reference column as being positive deviance or non deviance\n",
    "def group_one_classification(x):\n",
    "    if x >= group_one_check:\n",
    "        a = 'positive deviance'\n",
    "    else:\n",
    "        a = 'non-deviance'\n",
    "    return a\n",
    "\n",
    "\n",
    "def group_two_classification(x):\n",
    "    if x >= group_two_check:\n",
    "        a = 'positive deviance'\n",
    "    else:\n",
    "        a = 'non-deviance'\n",
    "    return a\n",
    "\n",
    "def group_three_classification(x):\n",
    "    if x >= group_three_check:\n",
    "        a = 'positive deviance'\n",
    "    else:\n",
    "        a = 'non-deviance'\n",
    "    return a"
   ]
  },
  {
   "cell_type": "code",
   "execution_count": 23,
   "id": "fc0d6921",
   "metadata": {},
   "outputs": [
    {
     "name": "stderr",
     "output_type": "stream",
     "text": [
      "C:\\Users\\jeff\\AppData\\Local\\Temp/ipykernel_13356/2636859237.py:1: SettingWithCopyWarning: \n",
      "A value is trying to be set on a copy of a slice from a DataFrame.\n",
      "Try using .loc[row_indexer,col_indexer] = value instead\n",
      "\n",
      "See the caveats in the documentation: https://pandas.pydata.org/pandas-docs/stable/user_guide/indexing.html#returning-a-view-versus-a-copy\n",
      "  group_one['ref'] = group_one['ref'].apply(lambda x: group_one_classification(x))\n",
      "C:\\Users\\jeff\\AppData\\Local\\Temp/ipykernel_13356/2636859237.py:2: SettingWithCopyWarning: \n",
      "A value is trying to be set on a copy of a slice from a DataFrame.\n",
      "Try using .loc[row_indexer,col_indexer] = value instead\n",
      "\n",
      "See the caveats in the documentation: https://pandas.pydata.org/pandas-docs/stable/user_guide/indexing.html#returning-a-view-versus-a-copy\n",
      "  group_two['ref'] = group_two['ref'].apply(lambda x: group_two_classification(x))\n",
      "C:\\Users\\jeff\\AppData\\Local\\Temp/ipykernel_13356/2636859237.py:3: SettingWithCopyWarning: \n",
      "A value is trying to be set on a copy of a slice from a DataFrame.\n",
      "Try using .loc[row_indexer,col_indexer] = value instead\n",
      "\n",
      "See the caveats in the documentation: https://pandas.pydata.org/pandas-docs/stable/user_guide/indexing.html#returning-a-view-versus-a-copy\n",
      "  group_three['ref'] = group_three['ref'].apply(lambda x: group_three_classification(x))\n"
     ]
    }
   ],
   "source": [
    "group_one['ref'] = group_one['ref'].apply(lambda x: group_one_classification(x))\n",
    "group_two['ref'] = group_two['ref'].apply(lambda x: group_two_classification(x))\n",
    "group_three['ref'] = group_three['ref'].apply(lambda x: group_three_classification(x))"
   ]
  },
  {
   "cell_type": "markdown",
   "id": "ea19fe64",
   "metadata": {},
   "source": [
    "Note\n",
    "> - positive_1: group one positive deviance\n",
    "> - positive_2: group two positive deviance\n",
    "> - positive_3: group three positive deviance"
   ]
  },
  {
   "cell_type": "code",
   "execution_count": 24,
   "id": "95b9dcf0",
   "metadata": {},
   "outputs": [],
   "source": [
    "#we then generate new dataframes for our analysis\n",
    "positive_1 = group_one[group_one.ref == 'positive deviance']\n",
    "non_1 = group_one[group_one.ref == 'non-deviance']\n",
    "\n",
    "positive_2 = group_two[group_two.ref == 'positive deviance']\n",
    "non_2 = group_two[group_two.ref == 'non-deviance']\n",
    "\n",
    "positive_3 = group_three[group_three.ref == 'positive deviance']\n",
    "non_3 = group_three[group_three.ref == 'non-deviance']"
   ]
  },
  {
   "cell_type": "markdown",
   "id": "4e9a98f2",
   "metadata": {},
   "source": [
    "# 1. Age"
   ]
  },
  {
   "cell_type": "code",
   "execution_count": 184,
   "id": "ff2d257c",
   "metadata": {},
   "outputs": [],
   "source": [
    "labels=['months 56 and above','months below 56']"
   ]
  },
  {
   "cell_type": "code",
   "execution_count": 258,
   "id": "17a30931",
   "metadata": {},
   "outputs": [
    {
     "data": {
      "text/plain": [
       "Text(0.5, 1.0, 'Age distribution in group one positive devients')"
      ]
     },
     "execution_count": 258,
     "metadata": {},
     "output_type": "execute_result"
    },
    {
     "data": {
      "image/png": "[encoded data removed]",
      "text/plain": [
       "<Figure size 432x288 with 2 Axes>"
      ]
     },
     "metadata": {
      "needs_background": "light"
     },
     "output_type": "display_data"
    }
   ],
   "source": [
    "fig = plt.figure()\n",
    "axes1 = fig.add_axes([0.9,0.1,1,0.9])\n",
    "axes2 = fig.add_axes([0.9,0.1,3,0.9])\n",
    "axes1.scatter(positive_1[['child_age','child_total_elom']].child_age,positive_1[['child_age','child_total_elom']].child_total_elom)\n",
    "axes2.pie(x = [positive_1[positive_1.child_age>= 56].shape[0],positive_1[positive_1.child_age< 56].shape[0]], labels=labels, colors=['red','grey'],autopct='%1.1f%%', explode = [0.1,0])\n",
    "axes1.set_title('group one age distribution of positive deviance')\n",
    "axes2.set_title('Age distribution in group one positive devients')"
   ]
  },
  {
   "cell_type": "code",
   "execution_count": 259,
   "id": "f27ab117",
   "metadata": {},
   "outputs": [
    {
     "data": {
      "text/plain": [
       "Text(0.5, 1.0, 'Age distribution in group two positive devients')"
      ]
     },
     "execution_count": 259,
     "metadata": {},
     "output_type": "execute_result"
    },
    {
     "data": {
      "image/png": "[encoded data removed]",
      "text/plain": [
       "<Figure size 432x288 with 2 Axes>"
      ]
     },
     "metadata": {
      "needs_background": "light"
     },
     "output_type": "display_data"
    }
   ],
   "source": [
    "fig = plt.figure()\n",
    "axes1 = fig.add_axes([0.9,0.1,1,0.9])\n",
    "axes2 = fig.add_axes([0.9,0.1,3,0.9])\n",
    "axes1.scatter(positive_2[['child_age','child_total_elom']].child_age,positive_2[['child_age','child_total_elom']].child_total_elom)\n",
    "axes2.pie(x = [positive_2[positive_2.child_age>= 56].shape[0],positive_2[positive_2.child_age< 56].shape[0]],autopct='%1.1f%%', labels=labels, colors=['red','grey'], explode = [0.1,0])\n",
    "axes1.set_title('group two age distribution of positive deviance')\n",
    "axes2.set_title('Age distribution in group two positive devients')"
   ]
  },
  {
   "cell_type": "code",
   "execution_count": 260,
   "id": "5a305c55",
   "metadata": {},
   "outputs": [
    {
     "data": {
      "text/plain": [
       "Text(0.5, 1.0, 'Age distribution in group three positive devients')"
      ]
     },
     "execution_count": 260,
     "metadata": {},
     "output_type": "execute_result"
    },
    {
     "data": {
      "image/png": "[encoded data removed]",
      "text/plain": [
       "<Figure size 432x288 with 2 Axes>"
      ]
     },
     "metadata": {
      "needs_background": "light"
     },
     "output_type": "display_data"
    }
   ],
   "source": [
    "fig = plt.figure()\n",
    "axes1 = fig.add_axes([0.9,0.1,1,0.9])\n",
    "axes2 = fig.add_axes([0.9,0.1,3,0.9])\n",
    "axes1.scatter(positive_3[['child_age','child_total_elom']].child_age,positive_3[['child_age','child_total_elom']].child_total_elom)\n",
    "axes2.pie(x = [positive_3[positive_3.child_age>= 56].shape[0],positive_3[positive_3.child_age< 56].shape[0]],autopct='%1.1f%%', labels=labels, colors=['red','grey'], explode = [0.1,0])\n",
    "axes1.set_title('group three age distribution of positive deviance')\n",
    "axes2.set_title('Age distribution in group three positive devients')"
   ]
  },
  {
   "cell_type": "markdown",
   "id": "e2789220",
   "metadata": {},
   "source": [
    "### Note:\n",
    ">1. Age affect positive deviance\n",
    ">2. Most people who are positive devient are 56 months old and above\n"
   ]
  },
  {
   "cell_type": "markdown",
   "id": "9cdfdd2a",
   "metadata": {},
   "source": [
    "# Gender"
   ]
  },
  {
   "cell_type": "code",
   "execution_count": 261,
   "id": "f8e0125d",
   "metadata": {},
   "outputs": [
    {
     "data": {
      "text/plain": [
       "Text(0.5, 1.0, 'Gender distribution in group one positive devients')"
      ]
     },
     "execution_count": 261,
     "metadata": {},
     "output_type": "execute_result"
    },
    {
     "data": {
      "image/png": "[encoded data removed]",
      "text/plain": [
       "<Figure size 432x288 with 2 Axes>"
      ]
     },
     "metadata": {},
     "output_type": "display_data"
    }
   ],
   "source": [
    "fig = plt.figure()\n",
    "axes1 = fig.add_axes([0.9,0.1,1,0.9])\n",
    "axes2 = fig.add_axes([0.9,0.1,3,0.9])\n",
    "axes1.pie(x = pd.DataFrame(group_one.child_gender.value_counts()).child_gender.to_list(),labels = pd.DataFrame(group_one.child_gender.value_counts()).index, autopct='%1.1f%%', colors = ['green','brown'])\n",
    "axes2.pie(x = pd.DataFrame(positive_1.child_gender.value_counts()).child_gender.to_list(),labels = pd.DataFrame(positive_1.child_gender.value_counts()).index, autopct='%1.1f%%', colors = ['green','brown'])\n",
    "axes1.set_title('Gender distribution in group one')\n",
    "axes2.set_title('Gender distribution in group one positive devients')"
   ]
  },
  {
   "cell_type": "code",
   "execution_count": 262,
   "id": "c3049ccd",
   "metadata": {},
   "outputs": [
    {
     "data": {
      "text/plain": [
       "Text(0.5, 1.0, 'Gender distribution in group two positive devients')"
      ]
     },
     "execution_count": 262,
     "metadata": {},
     "output_type": "execute_result"
    },
    {
     "data": {
      "image/png": "[encoded data removed]",
      "text/plain": [
       "<Figure size 432x288 with 2 Axes>"
      ]
     },
     "metadata": {},
     "output_type": "display_data"
    }
   ],
   "source": [
    "fig = plt.figure()\n",
    "axes1 = fig.add_axes([0.9,0.1,1,0.9])\n",
    "axes2 = fig.add_axes([0.9,0.1,3,0.9])\n",
    "axes1.pie(x = pd.DataFrame(group_two.child_gender.value_counts()).child_gender.to_list(),labels = pd.DataFrame(group_two.child_gender.value_counts()).index, autopct='%1.1f%%', colors = ['green','brown'])\n",
    "axes2.pie(x = pd.DataFrame(positive_2.child_gender.value_counts()).child_gender.to_list(),labels = pd.DataFrame(positive_2.child_gender.value_counts()).index, autopct='%1.1f%%', colors = ['green','brown'])\n",
    "axes1.set_title('Gender distribution in group two')\n",
    "axes2.set_title('Gender distribution in group two positive devients')"
   ]
  },
  {
   "cell_type": "code",
   "execution_count": 263,
   "id": "15e9ccd4",
   "metadata": {},
   "outputs": [
    {
     "data": {
      "text/plain": [
       "Text(0.5, 1.0, 'Gender distribution in group Three positive devients')"
      ]
     },
     "execution_count": 263,
     "metadata": {},
     "output_type": "execute_result"
    },
    {
     "data": {
      "image/png": "[encoded data removed]",
      "text/plain": [
       "<Figure size 432x288 with 2 Axes>"
      ]
     },
     "metadata": {},
     "output_type": "display_data"
    }
   ],
   "source": [
    "fig = plt.figure()\n",
    "axes1 = fig.add_axes([0.9,0.1,1,0.9])\n",
    "axes2 = fig.add_axes([0.9,0.1,3,0.9])\n",
    "axes1.pie(x = pd.DataFrame(group_three.child_gender.value_counts()).child_gender.to_list(), autopct='%1.1f%%', labels = pd.DataFrame(group_three.child_gender.value_counts()).index, colors = ['green','brown'])\n",
    "axes2.pie(x = pd.DataFrame(positive_2.child_gender.value_counts()).child_gender.to_list(), autopct='%1.1f%%', labels = pd.DataFrame(positive_2.child_gender.value_counts()).index, colors = ['green','brown'])\n",
    "axes1.set_title('Gender distribution in group Three')\n",
    "axes2.set_title('Gender distribution in group Three positive devients')"
   ]
  },
  {
   "cell_type": "markdown",
   "id": "e064bf44",
   "metadata": {},
   "source": [
    "> -  Most females thrive as positive deviance than male\n",
    "> - We can see that from all these three groups, female are more than males interms of positive deviance"
   ]
  },
  {
   "cell_type": "markdown",
   "id": "c28e8487",
   "metadata": {},
   "source": [
    "# grants"
   ]
  },
  {
   "cell_type": "code",
   "execution_count": 234,
   "id": "1b8808fb",
   "metadata": {},
   "outputs": [
    {
     "data": {
      "image/png": "[encoded data removed]",
      "text/plain": [
       "<Figure size 432x288 with 2 Axes>"
      ]
     },
     "metadata": {
      "needs_background": "light"
     },
     "output_type": "display_data"
    },
    {
     "data": {
      "image/png": "[encoded data removed]",
      "text/plain": [
       "<Figure size 432x288 with 2 Axes>"
      ]
     },
     "metadata": {
      "needs_background": "light"
     },
     "output_type": "display_data"
    },
    {
     "data": {
      "image/png": "[encoded data removed]",
      "text/plain": [
       "<Figure size 432x288 with 2 Axes>"
      ]
     },
     "metadata": {
      "needs_background": "light"
     },
     "output_type": "display_data"
    }
   ],
   "source": [
    "#group one\n",
    "fig = plt.figure()\n",
    "axes1 = fig.add_axes([0.1,0.1,0.8,0.9])\n",
    "axes2 = fig.add_axes([1.1,0.1,0.8,0.9])\n",
    "axes1.bar(pd.DataFrame(group_one.child_grant.value_counts()).index,pd.DataFrame(group_one.child_grant.value_counts()).child_grant)\n",
    "axes2.bar(pd.DataFrame(positive_1.child_grant.value_counts()).index,pd.DataFrame(positive_1.child_grant.value_counts()).child_grant)\n",
    "\n",
    "axes2.set_title('group one grant distribution for positive deviance')\n",
    "axes2.set_xlabel('receive grant')\n",
    "axes2.set_ylabel('count of learners')\n",
    "\n",
    "axes1.set_title('group one grant distribution')\n",
    "axes1.set_xlabel('receive grant')\n",
    "axes1.set_ylabel('count of learners')\n",
    "plt.show()\n",
    "\n",
    "#group two\n",
    "fig = plt.figure()\n",
    "axes1 = fig.add_axes([0.1,0.1,0.8,0.9])\n",
    "axes2 = fig.add_axes([1.1,0.1,0.8,0.9])\n",
    "axes1.bar(pd.DataFrame(group_two.child_grant.value_counts()).index,pd.DataFrame(group_two.child_grant.value_counts()).child_grant)\n",
    "axes2.bar(pd.DataFrame(positive_2.child_grant.value_counts()).index,pd.DataFrame(positive_2.child_grant.value_counts()).child_grant)\n",
    "\n",
    "axes2.set_title('group two grant distribution for positive deviance')\n",
    "axes2.set_xlabel('receive grant')\n",
    "axes2.set_ylabel('count of learners')\n",
    "\n",
    "axes1.set_title('group two grant distribution')\n",
    "axes1.set_xlabel('receive grant')\n",
    "axes1.set_ylabel('count of learners')\n",
    "plt.show()\n",
    "\n",
    "\n",
    "#group three\n",
    "fig = plt.figure()\n",
    "axes1 = fig.add_axes([0.1,0.1,0.8,0.9])\n",
    "axes2 = fig.add_axes([1.1,0.1,0.8,0.9])\n",
    "axes1.bar(pd.DataFrame(group_three.child_grant.value_counts()).index,pd.DataFrame(group_three.child_grant.value_counts()).child_grant)\n",
    "axes2.bar(pd.DataFrame(positive_3.child_grant.value_counts()).index,pd.DataFrame(positive_3.child_grant.value_counts()).child_grant)\n",
    "\n",
    "axes2.set_title('group three grant distribution for positive deviance')\n",
    "axes2.set_xlabel('receive grant')\n",
    "axes2.set_ylabel('count of learners')\n",
    "\n",
    "axes1.set_title('group three grant distribution')\n",
    "axes1.set_xlabel('receive grant')\n",
    "axes1.set_ylabel('count of learners')\n",
    "plt.show()"
   ]
  },
  {
   "cell_type": "code",
   "execution_count": null,
   "id": "9c45a62a",
   "metadata": {},
   "outputs": [],
   "source": []
  },
  {
   "cell_type": "markdown",
   "id": "fd8cef67",
   "metadata": {},
   "source": [
    "# Attention, Concentration, delligence, interested for positive deviance"
   ]
  },
  {
   "cell_type": "code",
   "execution_count": 248,
   "id": "7e7297d3",
   "metadata": {},
   "outputs": [
    {
     "data": {
      "image/png": "[encoded data removed]",
      "text/plain": [
       "<Figure size 432x288 with 3 Axes>"
      ]
     },
     "metadata": {
      "needs_background": "light"
     },
     "output_type": "display_data"
    },
    {
     "data": {
      "image/png": "[encoded data removed]",
      "text/plain": [
       "<Figure size 432x288 with 3 Axes>"
      ]
     },
     "metadata": {
      "needs_background": "light"
     },
     "output_type": "display_data"
    },
    {
     "data": {
      "image/png": "[encoded data removed]",
      "text/plain": [
       "<Figure size 432x288 with 3 Axes>"
      ]
     },
     "metadata": {
      "needs_background": "light"
     },
     "output_type": "display_data"
    },
    {
     "data": {
      "image/png": "[encoded data removed]",
      "text/plain": [
       "<Figure size 432x288 with 3 Axes>"
      ]
     },
     "metadata": {
      "needs_background": "light"
     },
     "output_type": "display_data"
    }
   ],
   "source": [
    "#attention\n",
    "fig = plt.figure()\n",
    "axes1 = fig.add_axes([0.1,0.3,0.9,0.9])\n",
    "axes2 = fig.add_axes([1.1,0.3,0.9,0.9])\n",
    "axes3 = fig.add_axes([2.1,0.3,0.9,0.9])\n",
    "axes1.bar(pd.DataFrame(positive_1.child_observe_attentive.value_counts()).index, pd.DataFrame(positive_1.child_observe_attentive.value_counts()).values.flatten())\n",
    "axes2.bar(pd.DataFrame(positive_2.child_observe_attentive.value_counts()).index, pd.DataFrame(positive_2.child_observe_attentive.value_counts()).values.flatten())\n",
    "axes3.bar(pd.DataFrame(positive_3.child_observe_attentive.value_counts()).index, pd.DataFrame(positive_3.child_observe_attentive.value_counts()).values.flatten())\n",
    "\n",
    "axes1.set_title('Attentiveness for group one positive deviance')\n",
    "axes1.set_ylabel('count of learners')\n",
    "axes2.set_title('Attentiveness for group two positive deviance')\n",
    "axes2.set_ylabel('count of learners')\n",
    "axes3.set_title('Attentiveness for group three positive deviance')\n",
    "axes3.set_ylabel('count of learners')\n",
    "plt.show()\n",
    "\n",
    "\n",
    "#concentration\n",
    "fig = plt.figure()\n",
    "axes1 = fig.add_axes([0.1,0.3,0.9,0.9])\n",
    "axes2 = fig.add_axes([1.1,0.3,0.9,0.9])\n",
    "axes3 = fig.add_axes([2.1,0.3,0.9,0.9])\n",
    "axes1.bar(pd.DataFrame(positive_1.child_observe_concentrated.value_counts()).index, pd.DataFrame(positive_1.child_observe_concentrated.value_counts()).values.flatten())\n",
    "axes2.bar(pd.DataFrame(positive_2.child_observe_concentrated.value_counts()).index, pd.DataFrame(positive_2.child_observe_concentrated.value_counts()).values.flatten())\n",
    "axes3.bar(pd.DataFrame(positive_3.child_observe_concentrated.value_counts()).index, pd.DataFrame(positive_3.child_observe_concentrated.value_counts()).values.flatten())\n",
    "\n",
    "axes1.set_title('Concentration for group one positive deviance')\n",
    "axes1.set_ylabel('count of learners')\n",
    "axes2.set_title('Concentration for group two positive deviance')\n",
    "axes2.set_ylabel('count of learners')\n",
    "axes3.set_title('Concentration for group three positive deviance')\n",
    "axes3.set_ylabel('count of learners')\n",
    "plt.show()\n",
    "\n",
    "#dilligence\n",
    "fig = plt.figure()\n",
    "axes1 = fig.add_axes([0.1,0.3,0.9,0.9])\n",
    "axes2 = fig.add_axes([1.1,0.3,0.9,0.9])\n",
    "axes3 = fig.add_axes([2.1,0.3,0.9,0.9])\n",
    "axes1.bar(pd.DataFrame(positive_1.child_observe_diligent.value_counts()).index, pd.DataFrame(positive_1.child_observe_diligent.value_counts()).values.flatten())\n",
    "axes2.bar(pd.DataFrame(positive_2.child_observe_diligent.value_counts()).index, pd.DataFrame(positive_2.child_observe_diligent.value_counts()).values.flatten())\n",
    "axes3.bar(pd.DataFrame(positive_3.child_observe_diligent.value_counts()).index, pd.DataFrame(positive_3.child_observe_diligent.value_counts()).values.flatten())\n",
    "\n",
    "axes1.set_title('Dilligence for group one positive deviance')\n",
    "axes1.set_ylabel('count of learners')\n",
    "axes2.set_title('Dilligence for group two positive deviance')\n",
    "axes2.set_ylabel('count of learners')\n",
    "axes3.set_title('Dilligence for group three positive deviance')\n",
    "axes3.set_ylabel('count of learners')\n",
    "plt.show()\n",
    "\n",
    "#interested\n",
    "fig = plt.figure()\n",
    "axes1 = fig.add_axes([0.1,0.3,0.9,0.9])\n",
    "axes2 = fig.add_axes([1.1,0.3,0.9,0.9])\n",
    "axes3 = fig.add_axes([2.1,0.3,0.9,0.9])\n",
    "axes1.bar(pd.DataFrame(positive_1.child_observe_interested.value_counts()).index, pd.DataFrame(positive_1.child_observe_interested.value_counts()).values.flatten())\n",
    "axes2.bar(pd.DataFrame(positive_2.child_observe_interested.value_counts()).index, pd.DataFrame(positive_2.child_observe_interested.value_counts()).values.flatten())\n",
    "axes3.bar(pd.DataFrame(positive_3.child_observe_interested.value_counts()).index, pd.DataFrame(positive_3.child_observe_interested.value_counts()).values.flatten())\n",
    "\n",
    "axes1.set_title('child interested in group one positive deviance')\n",
    "axes1.set_ylabel('count of learners')\n",
    "axes2.set_title('child interested in group two positive deviance')\n",
    "axes2.set_ylabel('count of learners')\n",
    "axes3.set_title('child interested in group three positive deviance')\n",
    "axes3.set_ylabel('count of learners')\n",
    "plt.show()"
   ]
  },
  {
   "cell_type": "markdown",
   "id": "51013e2e",
   "metadata": {},
   "source": [
    "# Attention, Concentration, delligence, interested for the whole dataset"
   ]
  },
  {
   "cell_type": "code",
   "execution_count": 251,
   "id": "19fbbfec",
   "metadata": {},
   "outputs": [
    {
     "data": {
      "image/png": "[encoded data removed]",
      "text/plain": [
       "<Figure size 432x288 with 3 Axes>"
      ]
     },
     "metadata": {
      "needs_background": "light"
     },
     "output_type": "display_data"
    },
    {
     "data": {
      "image/png": "[encoded data removed]",
      "text/plain": [
       "<Figure size 432x288 with 3 Axes>"
      ]
     },
     "metadata": {
      "needs_background": "light"
     },
     "output_type": "display_data"
    },
    {
     "data": {
      "image/png": "[encoded data removed]",
      "text/plain": [
       "<Figure size 432x288 with 3 Axes>"
      ]
     },
     "metadata": {
      "needs_background": "light"
     },
     "output_type": "display_data"
    },
    {
     "data": {
      "image/png": "[encoded data removed]",
      "text/plain": [
       "<Figure size 432x288 with 3 Axes>"
      ]
     },
     "metadata": {
      "needs_background": "light"
     },
     "output_type": "display_data"
    }
   ],
   "source": [
    "#attention\n",
    "fig = plt.figure()\n",
    "axes1 = fig.add_axes([0.1,0.3,0.9,0.9])\n",
    "axes2 = fig.add_axes([1.1,0.3,0.9,0.9])\n",
    "axes3 = fig.add_axes([2.1,0.3,0.9,0.9])\n",
    "axes1.bar(pd.DataFrame(group_one.child_observe_attentive.value_counts()).index, pd.DataFrame(group_one.child_observe_attentive.value_counts()).values.flatten())\n",
    "axes2.bar(pd.DataFrame(group_two.child_observe_attentive.value_counts()).index, pd.DataFrame(group_two.child_observe_attentive.value_counts()).values.flatten())\n",
    "axes3.bar(pd.DataFrame(group_three.child_observe_attentive.value_counts()).index, pd.DataFrame(group_three.child_observe_attentive.value_counts()).values.flatten())\n",
    "\n",
    "axes1.set_title('Attentiveness for group one')\n",
    "axes1.set_ylabel('count of learners')\n",
    "axes2.set_title('Attentiveness for group two')\n",
    "axes2.set_ylabel('count of learners')\n",
    "axes3.set_title('Attentiveness for group three')\n",
    "axes3.set_ylabel('count of learners')\n",
    "plt.show()\n",
    "\n",
    "\n",
    "#concentration\n",
    "fig = plt.figure()\n",
    "axes1 = fig.add_axes([0.1,0.3,0.9,0.9])\n",
    "axes2 = fig.add_axes([1.1,0.3,0.9,0.9])\n",
    "axes3 = fig.add_axes([2.1,0.3,0.9,0.9])\n",
    "axes1.bar(pd.DataFrame(group_one.child_observe_concentrated.value_counts()).index, pd.DataFrame(group_one.child_observe_concentrated.value_counts()).values.flatten())\n",
    "axes2.bar(pd.DataFrame(group_two.child_observe_concentrated.value_counts()).index, pd.DataFrame(group_two.child_observe_concentrated.value_counts()).values.flatten())\n",
    "axes3.bar(pd.DataFrame(group_three.child_observe_concentrated.value_counts()).index, pd.DataFrame(group_three.child_observe_concentrated.value_counts()).values.flatten())\n",
    "\n",
    "axes1.set_title('Concentration for group one')\n",
    "axes1.set_ylabel('count of learners')\n",
    "axes2.set_title('Concentration for group two')\n",
    "axes2.set_ylabel('count of learners')\n",
    "axes3.set_title('Concentration for group three')\n",
    "axes3.set_ylabel('count of learners')\n",
    "plt.show()\n",
    "\n",
    "#dilligence\n",
    "fig = plt.figure()\n",
    "axes1 = fig.add_axes([0.1,0.3,0.9,0.9])\n",
    "axes2 = fig.add_axes([1.1,0.3,0.9,0.9])\n",
    "axes3 = fig.add_axes([2.1,0.3,0.9,0.9])\n",
    "axes1.bar(pd.DataFrame(group_one.child_observe_diligent.value_counts()).index, pd.DataFrame(group_one.child_observe_diligent.value_counts()).values.flatten())\n",
    "axes2.bar(pd.DataFrame(group_two.child_observe_diligent.value_counts()).index, pd.DataFrame(group_two.child_observe_diligent.value_counts()).values.flatten())\n",
    "axes3.bar(pd.DataFrame(group_three.child_observe_diligent.value_counts()).index, pd.DataFrame(group_three.child_observe_diligent.value_counts()).values.flatten())\n",
    "\n",
    "axes1.set_title('Dilligence for group one')\n",
    "axes1.set_ylabel('count of learners')\n",
    "axes2.set_title('Dilligence for group two')\n",
    "axes2.set_ylabel('count of learners')\n",
    "axes3.set_title('Dilligence for group three')\n",
    "axes3.set_ylabel('count of learners')\n",
    "plt.show()\n",
    "\n",
    "#interested\n",
    "fig = plt.figure()\n",
    "axes1 = fig.add_axes([0.1,0.3,0.9,0.9])\n",
    "axes2 = fig.add_axes([1.1,0.3,0.9,0.9])\n",
    "axes3 = fig.add_axes([2.1,0.3,0.9,0.9])\n",
    "axes1.bar(pd.DataFrame(group_one.child_observe_interested.value_counts()).index, pd.DataFrame(group_one.child_observe_interested.value_counts()).values.flatten())\n",
    "axes2.bar(pd.DataFrame(group_two.child_observe_interested.value_counts()).index, pd.DataFrame(group_two.child_observe_interested.value_counts()).values.flatten())\n",
    "axes3.bar(pd.DataFrame(group_three.child_observe_interested.value_counts()).index, pd.DataFrame(group_three.child_observe_interested.value_counts()).values.flatten())\n",
    "\n",
    "axes1.set_title('child interested in group one')\n",
    "axes1.set_ylabel('count of learners')\n",
    "axes2.set_title('child interested in group two')\n",
    "axes2.set_ylabel('count of learners')\n",
    "axes3.set_title('child interested in group three')\n",
    "axes3.set_ylabel('count of learners')\n",
    "plt.show()"
   ]
  },
  {
   "cell_type": "markdown",
   "id": "d1771c6a",
   "metadata": {},
   "source": [
    "# 1. province"
   ]
  },
  {
   "cell_type": "markdown",
   "id": "f43f8838",
   "metadata": {},
   "source": [
    "### a). mean elom score for all the three groups"
   ]
  },
  {
   "cell_type": "code",
   "execution_count": 257,
   "id": "c8c97f19",
   "metadata": {},
   "outputs": [
    {
     "data": {
      "image/png": "[encoded data removed]",
      "text/plain": [
       "<Figure size 1080x360 with 1 Axes>"
      ]
     },
     "metadata": {
      "needs_background": "light"
     },
     "output_type": "display_data"
    },
    {
     "data": {
      "image/png": "[encoded data removed]",
      "text/plain": [
       "<Figure size 1080x360 with 1 Axes>"
      ]
     },
     "metadata": {
      "needs_background": "light"
     },
     "output_type": "display_data"
    },
    {
     "data": {
      "image/png": "[encoded data removed]",
      "text/plain": [
       "<Figure size 1080x360 with 1 Axes>"
      ]
     },
     "metadata": {
      "needs_background": "light"
     },
     "output_type": "display_data"
    }
   ],
   "source": [
    "plt.figure(figsize = (15,5))\n",
    "plt.bar(positive_1[['prov_best','child_total_elom']].groupby(by='prov_best').mean().sort_values(by='child_total_elom')[::-1].index,  positive_1[['prov_best','child_total_elom']].groupby(by='prov_best').mean().sort_values(by='child_total_elom')[::-1].child_total_elom)\n",
    "plt.xlabel('privince name')\n",
    "plt.ylabel('mean elom score')\n",
    "plt.title('mean elom for all group one positive deviance')\n",
    "plt.show()\n",
    "\n",
    "plt.figure(figsize = (15,5))\n",
    "plt.bar(positive_2[['prov_best','child_total_elom']].groupby(by='prov_best').mean().sort_values(by='child_total_elom')[::-1].index,  positive_2[['prov_best','child_total_elom']].groupby(by='prov_best').mean().sort_values(by='child_total_elom')[::-1].child_total_elom)\n",
    "plt.xlabel('privince name')\n",
    "plt.ylabel('mean elom score')\n",
    "plt.title('mean elom for all group two positive deviance')\n",
    "plt.show()\n",
    "\n",
    "plt.figure(figsize = (15,5))\n",
    "plt.bar(positive_3[['prov_best','child_total_elom']].groupby(by='prov_best').mean().sort_values(by='child_total_elom')[::-1].index,  positive_3[['prov_best','child_total_elom']].groupby(by='prov_best').mean().sort_values(by='child_total_elom')[::-1].child_total_elom)\n",
    "plt.xlabel('privince name')\n",
    "plt.ylabel('mean elom score')\n",
    "plt.title('mean elom for all group three positive deviance')\n",
    "plt.show()"
   ]
  },
  {
   "cell_type": "markdown",
   "id": "2157b5ca",
   "metadata": {},
   "source": [
    "### b). Percentage with distribution of population"
   ]
  },
  {
   "cell_type": "markdown",
   "id": "4e35ae1e",
   "metadata": {},
   "source": [
    "Hypothesis:: The more the population, the higher posibility of positive deviance"
   ]
  },
  {
   "cell_type": "code",
   "execution_count": 41,
   "id": "5456e376",
   "metadata": {},
   "outputs": [],
   "source": [
    "# checking population"
   ]
  },
  {
   "cell_type": "code",
   "execution_count": 42,
   "id": "098824b9",
   "metadata": {},
   "outputs": [
    {
     "data": {
      "text/html": [
       "<div>\n",
       "<style scoped>\n",
       "    .dataframe tbody tr th:only-of-type {\n",
       "        vertical-align: middle;\n",
       "    }\n",
       "\n",
       "    .dataframe tbody tr th {\n",
       "        vertical-align: top;\n",
       "    }\n",
       "\n",
       "    .dataframe thead th {\n",
       "        text-align: right;\n",
       "    }\n",
       "</style>\n",
       "<table border=\"1\" class=\"dataframe\">\n",
       "  <thead>\n",
       "    <tr style=\"text-align: right;\">\n",
       "      <th></th>\n",
       "      <th>child_id</th>\n",
       "      <th>total_positive</th>\n",
       "      <th>percentage</th>\n",
       "    </tr>\n",
       "    <tr>\n",
       "      <th>prov_best</th>\n",
       "      <th></th>\n",
       "      <th></th>\n",
       "      <th></th>\n",
       "    </tr>\n",
       "  </thead>\n",
       "  <tbody>\n",
       "    <tr>\n",
       "      <th>Western Cape</th>\n",
       "      <td>111</td>\n",
       "      <td>27</td>\n",
       "      <td>24.324324</td>\n",
       "    </tr>\n",
       "    <tr>\n",
       "      <th>Mpumalanga</th>\n",
       "      <td>150</td>\n",
       "      <td>28</td>\n",
       "      <td>18.666667</td>\n",
       "    </tr>\n",
       "    <tr>\n",
       "      <th>Gauteng</th>\n",
       "      <td>18</td>\n",
       "      <td>3</td>\n",
       "      <td>16.666667</td>\n",
       "    </tr>\n",
       "    <tr>\n",
       "      <th>Eastern Cape</th>\n",
       "      <td>480</td>\n",
       "      <td>59</td>\n",
       "      <td>12.291667</td>\n",
       "    </tr>\n",
       "    <tr>\n",
       "      <th>North West</th>\n",
       "      <td>62</td>\n",
       "      <td>5</td>\n",
       "      <td>8.064516</td>\n",
       "    </tr>\n",
       "    <tr>\n",
       "      <th>Northern Cape</th>\n",
       "      <td>474</td>\n",
       "      <td>38</td>\n",
       "      <td>8.016878</td>\n",
       "    </tr>\n",
       "    <tr>\n",
       "      <th>KwaZulu-Natal</th>\n",
       "      <td>456</td>\n",
       "      <td>34</td>\n",
       "      <td>7.456140</td>\n",
       "    </tr>\n",
       "    <tr>\n",
       "      <th>Limpopo</th>\n",
       "      <td>63</td>\n",
       "      <td>4</td>\n",
       "      <td>6.349206</td>\n",
       "    </tr>\n",
       "    <tr>\n",
       "      <th>Free State</th>\n",
       "      <td>84</td>\n",
       "      <td>5</td>\n",
       "      <td>5.952381</td>\n",
       "    </tr>\n",
       "  </tbody>\n",
       "</table>\n",
       "</div>"
      ],
      "text/plain": [
       "               child_id  total_positive  percentage\n",
       "prov_best                                          \n",
       "Western Cape        111              27   24.324324\n",
       "Mpumalanga          150              28   18.666667\n",
       "Gauteng              18               3   16.666667\n",
       "Eastern Cape        480              59   12.291667\n",
       "North West           62               5    8.064516\n",
       "Northern Cape       474              38    8.016878\n",
       "KwaZulu-Natal       456              34    7.456140\n",
       "Limpopo              63               4    6.349206\n",
       "Free State           84               5    5.952381"
      ]
     },
     "execution_count": 42,
     "metadata": {},
     "output_type": "execute_result"
    }
   ],
   "source": [
    "population_check1 = group_one[['child_id','prov_best']].groupby(by='prov_best').count().sort_values(by='child_id')[::-1]\n",
    "population_check1['total_positive'] = [59,38,34,28,27,5,4,5,3]\n",
    "population_check1['percentage'] = (population_check1.total_positive/population_check1.child_id)*100\n",
    "population_check1.sort_values(by='percentage')[::-1]"
   ]
  },
  {
   "cell_type": "code",
   "execution_count": 43,
   "id": "57f72484",
   "metadata": {},
   "outputs": [],
   "source": [
    "#group two"
   ]
  },
  {
   "cell_type": "code",
   "execution_count": 44,
   "id": "9aca0270",
   "metadata": {},
   "outputs": [
    {
     "data": {
      "text/html": [
       "<div>\n",
       "<style scoped>\n",
       "    .dataframe tbody tr th:only-of-type {\n",
       "        vertical-align: middle;\n",
       "    }\n",
       "\n",
       "    .dataframe tbody tr th {\n",
       "        vertical-align: top;\n",
       "    }\n",
       "\n",
       "    .dataframe thead th {\n",
       "        text-align: right;\n",
       "    }\n",
       "</style>\n",
       "<table border=\"1\" class=\"dataframe\">\n",
       "  <thead>\n",
       "    <tr style=\"text-align: right;\">\n",
       "      <th></th>\n",
       "      <th>child_id</th>\n",
       "      <th>total_positive</th>\n",
       "      <th>percentage</th>\n",
       "    </tr>\n",
       "    <tr>\n",
       "      <th>prov_best</th>\n",
       "      <th></th>\n",
       "      <th></th>\n",
       "      <th></th>\n",
       "    </tr>\n",
       "  </thead>\n",
       "  <tbody>\n",
       "    <tr>\n",
       "      <th>Eastern Cape</th>\n",
       "      <td>40</td>\n",
       "      <td>2</td>\n",
       "      <td>5.000000</td>\n",
       "    </tr>\n",
       "    <tr>\n",
       "      <th>Mpumalanga</th>\n",
       "      <td>321</td>\n",
       "      <td>11</td>\n",
       "      <td>3.426791</td>\n",
       "    </tr>\n",
       "    <tr>\n",
       "      <th>Gauteng</th>\n",
       "      <td>59</td>\n",
       "      <td>2</td>\n",
       "      <td>3.389831</td>\n",
       "    </tr>\n",
       "    <tr>\n",
       "      <th>Free State</th>\n",
       "      <td>389</td>\n",
       "      <td>11</td>\n",
       "      <td>2.827763</td>\n",
       "    </tr>\n",
       "    <tr>\n",
       "      <th>Western Cape</th>\n",
       "      <td>151</td>\n",
       "      <td>4</td>\n",
       "      <td>2.649007</td>\n",
       "    </tr>\n",
       "    <tr>\n",
       "      <th>Northern Cape</th>\n",
       "      <td>196</td>\n",
       "      <td>4</td>\n",
       "      <td>2.040816</td>\n",
       "    </tr>\n",
       "    <tr>\n",
       "      <th>North West</th>\n",
       "      <td>261</td>\n",
       "      <td>3</td>\n",
       "      <td>1.149425</td>\n",
       "    </tr>\n",
       "    <tr>\n",
       "      <th>Limpopo</th>\n",
       "      <td>721</td>\n",
       "      <td>7</td>\n",
       "      <td>0.970874</td>\n",
       "    </tr>\n",
       "    <tr>\n",
       "      <th>KwaZulu-Natal</th>\n",
       "      <td>102</td>\n",
       "      <td>0</td>\n",
       "      <td>0.000000</td>\n",
       "    </tr>\n",
       "  </tbody>\n",
       "</table>\n",
       "</div>"
      ],
      "text/plain": [
       "               child_id  total_positive  percentage\n",
       "prov_best                                          \n",
       "Eastern Cape         40               2    5.000000\n",
       "Mpumalanga          321              11    3.426791\n",
       "Gauteng              59               2    3.389831\n",
       "Free State          389              11    2.827763\n",
       "Western Cape        151               4    2.649007\n",
       "Northern Cape       196               4    2.040816\n",
       "North West          261               3    1.149425\n",
       "Limpopo             721               7    0.970874\n",
       "KwaZulu-Natal       102               0    0.000000"
      ]
     },
     "execution_count": 44,
     "metadata": {},
     "output_type": "execute_result"
    }
   ],
   "source": [
    "population_check2 = group_two[['child_id','prov_best']].groupby(by='prov_best').count().sort_values(by='child_id')[::-1]\n",
    "population_check2['total_positive'] = [7,11,11,3,4,4,0,2,2]\n",
    "population_check2['percentage'] = (population_check2.total_positive/population_check2.child_id)*100\n",
    "population_check2.sort_values(by='percentage')[::-1]"
   ]
  },
  {
   "cell_type": "code",
   "execution_count": 45,
   "id": "14b63457",
   "metadata": {},
   "outputs": [],
   "source": [
    "# group 3"
   ]
  },
  {
   "cell_type": "code",
   "execution_count": 46,
   "id": "6605f3be",
   "metadata": {},
   "outputs": [
    {
     "data": {
      "text/html": [
       "<div>\n",
       "<style scoped>\n",
       "    .dataframe tbody tr th:only-of-type {\n",
       "        vertical-align: middle;\n",
       "    }\n",
       "\n",
       "    .dataframe tbody tr th {\n",
       "        vertical-align: top;\n",
       "    }\n",
       "\n",
       "    .dataframe thead th {\n",
       "        text-align: right;\n",
       "    }\n",
       "</style>\n",
       "<table border=\"1\" class=\"dataframe\">\n",
       "  <thead>\n",
       "    <tr style=\"text-align: right;\">\n",
       "      <th></th>\n",
       "      <th>child_id</th>\n",
       "      <th>total_positive</th>\n",
       "      <th>percentage</th>\n",
       "    </tr>\n",
       "    <tr>\n",
       "      <th>prov_best</th>\n",
       "      <th></th>\n",
       "      <th></th>\n",
       "      <th></th>\n",
       "    </tr>\n",
       "  </thead>\n",
       "  <tbody>\n",
       "    <tr>\n",
       "      <th>Northern Cape</th>\n",
       "      <td>54</td>\n",
       "      <td>7</td>\n",
       "      <td>12.962963</td>\n",
       "    </tr>\n",
       "    <tr>\n",
       "      <th>Free State</th>\n",
       "      <td>35</td>\n",
       "      <td>2</td>\n",
       "      <td>5.714286</td>\n",
       "    </tr>\n",
       "    <tr>\n",
       "      <th>Limpopo</th>\n",
       "      <td>315</td>\n",
       "      <td>2</td>\n",
       "      <td>0.634921</td>\n",
       "    </tr>\n",
       "    <tr>\n",
       "      <th>Mpumalanga</th>\n",
       "      <td>261</td>\n",
       "      <td>1</td>\n",
       "      <td>0.383142</td>\n",
       "    </tr>\n",
       "    <tr>\n",
       "      <th>KwaZulu-Natal</th>\n",
       "      <td>35</td>\n",
       "      <td>0</td>\n",
       "      <td>0.000000</td>\n",
       "    </tr>\n",
       "    <tr>\n",
       "      <th>Eastern Cape</th>\n",
       "      <td>36</td>\n",
       "      <td>0</td>\n",
       "      <td>0.000000</td>\n",
       "    </tr>\n",
       "    <tr>\n",
       "      <th>North West</th>\n",
       "      <td>167</td>\n",
       "      <td>0</td>\n",
       "      <td>0.000000</td>\n",
       "    </tr>\n",
       "    <tr>\n",
       "      <th>Gauteng</th>\n",
       "      <td>319</td>\n",
       "      <td>0</td>\n",
       "      <td>0.000000</td>\n",
       "    </tr>\n",
       "    <tr>\n",
       "      <th>Western Cape</th>\n",
       "      <td>455</td>\n",
       "      <td>0</td>\n",
       "      <td>0.000000</td>\n",
       "    </tr>\n",
       "  </tbody>\n",
       "</table>\n",
       "</div>"
      ],
      "text/plain": [
       "               child_id  total_positive  percentage\n",
       "prov_best                                          \n",
       "Northern Cape        54               7   12.962963\n",
       "Free State           35               2    5.714286\n",
       "Limpopo             315               2    0.634921\n",
       "Mpumalanga          261               1    0.383142\n",
       "KwaZulu-Natal        35               0    0.000000\n",
       "Eastern Cape         36               0    0.000000\n",
       "North West          167               0    0.000000\n",
       "Gauteng             319               0    0.000000\n",
       "Western Cape        455               0    0.000000"
      ]
     },
     "execution_count": 46,
     "metadata": {},
     "output_type": "execute_result"
    }
   ],
   "source": [
    "population_check3 = group_three[['child_id','prov_best']].groupby(by='prov_best').count().sort_values(by='child_id')[::-1]\n",
    "population_check3['total_positive'] = [0,0,2,1,0,7,0,0,2]\n",
    "population_check3['percentage'] = (population_check3.total_positive/population_check3.child_id)*100\n",
    "population_check3.sort_values(by='percentage')[::-1]"
   ]
  },
  {
   "cell_type": "markdown",
   "id": "41e7ad43",
   "metadata": {},
   "source": [
    "Note\n",
    "> Western cape, Mpumalanga, Gauteng and Eastern Cape have a hinger percentage of positive deviance"
   ]
  },
  {
   "cell_type": "markdown",
   "id": "fda0d4ec",
   "metadata": {},
   "source": [
    "2. Total number of province showing positive deviance"
   ]
  },
  {
   "cell_type": "code",
   "execution_count": 48,
   "id": "7d03fc29",
   "metadata": {},
   "outputs": [
    {
     "data": {
      "image/png": "[encoded data removed]",
      "text/plain": [
       "<Figure size 1080x360 with 1 Axes>"
      ]
     },
     "metadata": {
      "needs_background": "light"
     },
     "output_type": "display_data"
    }
   ],
   "source": [
    "#group one\n",
    "plt.figure(figsize = (15,5))\n",
    "plt.bar(pd.DataFrame(positive_1.prov_best.value_counts()).index,pd.DataFrame(positive_1.prov_best.value_counts()).prov_best)\n",
    "plt.title('counts for the available prov in group one positive deviance')\n",
    "plt.ylabel('value count')\n",
    "plt.xlabel('province')\n",
    "plt.show()"
   ]
  },
  {
   "cell_type": "code",
   "execution_count": 49,
   "id": "abeb7841",
   "metadata": {},
   "outputs": [
    {
     "data": {
      "image/png": "[encoded data removed]",
      "text/plain": [
       "<Figure size 1080x360 with 1 Axes>"
      ]
     },
     "metadata": {
      "needs_background": "light"
     },
     "output_type": "display_data"
    }
   ],
   "source": [
    "#group two\n",
    "plt.figure(figsize = (15,5))\n",
    "plt.bar(pd.DataFrame(positive_2.prov_best.value_counts()).index,pd.DataFrame(positive_2.prov_best.value_counts()).prov_best)\n",
    "plt.title('counts for the available prov in group two positive deviance')\n",
    "plt.ylabel('value count')\n",
    "plt.xlabel('province')\n",
    "plt.show()"
   ]
  },
  {
   "cell_type": "code",
   "execution_count": 50,
   "id": "e17e35ad",
   "metadata": {},
   "outputs": [
    {
     "data": {
      "image/png": "[encoded data removed]",
      "text/plain": [
       "<Figure size 1080x360 with 1 Axes>"
      ]
     },
     "metadata": {
      "needs_background": "light"
     },
     "output_type": "display_data"
    }
   ],
   "source": [
    "#group three\n",
    "plt.figure(figsize = (15,5))\n",
    "plt.bar(pd.DataFrame(positive_3.prov_best.value_counts()).index,pd.DataFrame(positive_3.prov_best.value_counts()).prov_best)\n",
    "plt.title('counts for the available prov in group three positive deviance')\n",
    "plt.ylabel('value count')\n",
    "plt.xlabel('province')\n",
    "plt.show()"
   ]
  },
  {
   "cell_type": "markdown",
   "id": "acd238dd",
   "metadata": {},
   "source": [
    "3. Subsidy"
   ]
  },
  {
   "cell_type": "code",
   "execution_count": 51,
   "id": "85023245",
   "metadata": {},
   "outputs": [
    {
     "data": {
      "text/html": [
       "<div>\n",
       "<style scoped>\n",
       "    .dataframe tbody tr th:only-of-type {\n",
       "        vertical-align: middle;\n",
       "    }\n",
       "\n",
       "    .dataframe tbody tr th {\n",
       "        vertical-align: top;\n",
       "    }\n",
       "\n",
       "    .dataframe thead th {\n",
       "        text-align: right;\n",
       "    }\n",
       "</style>\n",
       "<table border=\"1\" class=\"dataframe\">\n",
       "  <thead>\n",
       "    <tr style=\"text-align: right;\">\n",
       "      <th></th>\n",
       "      <th>prov_subsidy_m</th>\n",
       "    </tr>\n",
       "    <tr>\n",
       "      <th>prov_best</th>\n",
       "      <th></th>\n",
       "    </tr>\n",
       "  </thead>\n",
       "  <tbody>\n",
       "    <tr>\n",
       "      <th>Free State</th>\n",
       "      <td>0.570672</td>\n",
       "    </tr>\n",
       "    <tr>\n",
       "      <th>Eastern Cape</th>\n",
       "      <td>0.437392</td>\n",
       "    </tr>\n",
       "    <tr>\n",
       "      <th>KwaZulu-Natal</th>\n",
       "      <td>0.422698</td>\n",
       "    </tr>\n",
       "    <tr>\n",
       "      <th>Limpopo</th>\n",
       "      <td>0.404623</td>\n",
       "    </tr>\n",
       "    <tr>\n",
       "      <th>Northern Cape</th>\n",
       "      <td>0.375780</td>\n",
       "    </tr>\n",
       "    <tr>\n",
       "      <th>Mpumalanga</th>\n",
       "      <td>0.366486</td>\n",
       "    </tr>\n",
       "    <tr>\n",
       "      <th>North West</th>\n",
       "      <td>0.212340</td>\n",
       "    </tr>\n",
       "    <tr>\n",
       "      <th>Western Cape</th>\n",
       "      <td>0.206020</td>\n",
       "    </tr>\n",
       "    <tr>\n",
       "      <th>Gauteng</th>\n",
       "      <td>0.152293</td>\n",
       "    </tr>\n",
       "  </tbody>\n",
       "</table>\n",
       "</div>"
      ],
      "text/plain": [
       "               prov_subsidy_m\n",
       "prov_best                    \n",
       "Free State           0.570672\n",
       "Eastern Cape         0.437392\n",
       "KwaZulu-Natal        0.422698\n",
       "Limpopo              0.404623\n",
       "Northern Cape        0.375780\n",
       "Mpumalanga           0.366486\n",
       "North West           0.212340\n",
       "Western Cape         0.206020\n",
       "Gauteng              0.152293"
      ]
     },
     "execution_count": 51,
     "metadata": {},
     "output_type": "execute_result"
    }
   ],
   "source": [
    "positive_1[['prov_subsidy_m','prov_best']].groupby(by='prov_best').mean().sort_values(by='prov_subsidy_m')[::-1]"
   ]
  },
  {
   "cell_type": "code",
   "execution_count": 52,
   "id": "1615fd8c",
   "metadata": {},
   "outputs": [
    {
     "data": {
      "text/html": [
       "<div>\n",
       "<style scoped>\n",
       "    .dataframe tbody tr th:only-of-type {\n",
       "        vertical-align: middle;\n",
       "    }\n",
       "\n",
       "    .dataframe tbody tr th {\n",
       "        vertical-align: top;\n",
       "    }\n",
       "\n",
       "    .dataframe thead th {\n",
       "        text-align: right;\n",
       "    }\n",
       "</style>\n",
       "<table border=\"1\" class=\"dataframe\">\n",
       "  <thead>\n",
       "    <tr style=\"text-align: right;\">\n",
       "      <th></th>\n",
       "      <th>prov_subsidy_m</th>\n",
       "    </tr>\n",
       "    <tr>\n",
       "      <th>prov_best</th>\n",
       "      <th></th>\n",
       "    </tr>\n",
       "  </thead>\n",
       "  <tbody>\n",
       "    <tr>\n",
       "      <th>Free State</th>\n",
       "      <td>0.570672</td>\n",
       "    </tr>\n",
       "    <tr>\n",
       "      <th>Eastern Cape</th>\n",
       "      <td>0.437392</td>\n",
       "    </tr>\n",
       "    <tr>\n",
       "      <th>Limpopo</th>\n",
       "      <td>0.404623</td>\n",
       "    </tr>\n",
       "    <tr>\n",
       "      <th>Northern Cape</th>\n",
       "      <td>0.375780</td>\n",
       "    </tr>\n",
       "    <tr>\n",
       "      <th>Mpumalanga</th>\n",
       "      <td>0.366486</td>\n",
       "    </tr>\n",
       "    <tr>\n",
       "      <th>North West</th>\n",
       "      <td>0.212340</td>\n",
       "    </tr>\n",
       "    <tr>\n",
       "      <th>Western Cape</th>\n",
       "      <td>0.206020</td>\n",
       "    </tr>\n",
       "    <tr>\n",
       "      <th>Gauteng</th>\n",
       "      <td>0.152293</td>\n",
       "    </tr>\n",
       "  </tbody>\n",
       "</table>\n",
       "</div>"
      ],
      "text/plain": [
       "               prov_subsidy_m\n",
       "prov_best                    \n",
       "Free State           0.570672\n",
       "Eastern Cape         0.437392\n",
       "Limpopo              0.404623\n",
       "Northern Cape        0.375780\n",
       "Mpumalanga           0.366486\n",
       "North West           0.212340\n",
       "Western Cape         0.206020\n",
       "Gauteng              0.152293"
      ]
     },
     "execution_count": 52,
     "metadata": {},
     "output_type": "execute_result"
    }
   ],
   "source": [
    "positive_2[['prov_subsidy_m','prov_best']].groupby(by='prov_best').mean().sort_values(by='prov_subsidy_m')[::-1]"
   ]
  },
  {
   "cell_type": "code",
   "execution_count": 53,
   "id": "b89ce6e0",
   "metadata": {},
   "outputs": [
    {
     "data": {
      "text/html": [
       "<div>\n",
       "<style scoped>\n",
       "    .dataframe tbody tr th:only-of-type {\n",
       "        vertical-align: middle;\n",
       "    }\n",
       "\n",
       "    .dataframe tbody tr th {\n",
       "        vertical-align: top;\n",
       "    }\n",
       "\n",
       "    .dataframe thead th {\n",
       "        text-align: right;\n",
       "    }\n",
       "</style>\n",
       "<table border=\"1\" class=\"dataframe\">\n",
       "  <thead>\n",
       "    <tr style=\"text-align: right;\">\n",
       "      <th></th>\n",
       "      <th>prov_subsidy_m</th>\n",
       "    </tr>\n",
       "    <tr>\n",
       "      <th>prov_best</th>\n",
       "      <th></th>\n",
       "    </tr>\n",
       "  </thead>\n",
       "  <tbody>\n",
       "    <tr>\n",
       "      <th>Eastern Cape</th>\n",
       "      <td>0.437392</td>\n",
       "    </tr>\n",
       "    <tr>\n",
       "      <th>Mpumalanga</th>\n",
       "      <td>0.366486</td>\n",
       "    </tr>\n",
       "    <tr>\n",
       "      <th>North West</th>\n",
       "      <td>0.212340</td>\n",
       "    </tr>\n",
       "    <tr>\n",
       "      <th>Western Cape</th>\n",
       "      <td>0.206020</td>\n",
       "    </tr>\n",
       "    <tr>\n",
       "      <th>Gauteng</th>\n",
       "      <td>0.152293</td>\n",
       "    </tr>\n",
       "  </tbody>\n",
       "</table>\n",
       "</div>"
      ],
      "text/plain": [
       "              prov_subsidy_m\n",
       "prov_best                   \n",
       "Eastern Cape        0.437392\n",
       "Mpumalanga          0.366486\n",
       "North West          0.212340\n",
       "Western Cape        0.206020\n",
       "Gauteng             0.152293"
      ]
     },
     "execution_count": 53,
     "metadata": {},
     "output_type": "execute_result"
    }
   ],
   "source": [
    "positive_3[['prov_subsidy_m','prov_best']].groupby(by='prov_best').mean().sort_values(by='prov_subsidy_m')[::-1]"
   ]
  },
  {
   "cell_type": "markdown",
   "id": "aa296698",
   "metadata": {},
   "source": [
    "4. transport"
   ]
  },
  {
   "cell_type": "code",
   "execution_count": 54,
   "id": "e389dc66",
   "metadata": {},
   "outputs": [
    {
     "data": {
      "text/html": [
       "<div>\n",
       "<style scoped>\n",
       "    .dataframe tbody tr th:only-of-type {\n",
       "        vertical-align: middle;\n",
       "    }\n",
       "\n",
       "    .dataframe tbody tr th {\n",
       "        vertical-align: top;\n",
       "    }\n",
       "\n",
       "    .dataframe thead th {\n",
       "        text-align: right;\n",
       "    }\n",
       "</style>\n",
       "<table border=\"1\" class=\"dataframe\">\n",
       "  <thead>\n",
       "    <tr style=\"text-align: right;\">\n",
       "      <th></th>\n",
       "      <th>prov_transport_m</th>\n",
       "    </tr>\n",
       "    <tr>\n",
       "      <th>prov_best</th>\n",
       "      <th></th>\n",
       "    </tr>\n",
       "  </thead>\n",
       "  <tbody>\n",
       "    <tr>\n",
       "      <th>Western Cape</th>\n",
       "      <td>0.188927</td>\n",
       "    </tr>\n",
       "    <tr>\n",
       "      <th>Gauteng</th>\n",
       "      <td>0.157395</td>\n",
       "    </tr>\n",
       "    <tr>\n",
       "      <th>Northern Cape</th>\n",
       "      <td>0.090347</td>\n",
       "    </tr>\n",
       "    <tr>\n",
       "      <th>Free State</th>\n",
       "      <td>0.082940</td>\n",
       "    </tr>\n",
       "    <tr>\n",
       "      <th>North West</th>\n",
       "      <td>0.077020</td>\n",
       "    </tr>\n",
       "    <tr>\n",
       "      <th>Mpumalanga</th>\n",
       "      <td>0.076187</td>\n",
       "    </tr>\n",
       "    <tr>\n",
       "      <th>Limpopo</th>\n",
       "      <td>0.074267</td>\n",
       "    </tr>\n",
       "    <tr>\n",
       "      <th>KwaZulu-Natal</th>\n",
       "      <td>0.049904</td>\n",
       "    </tr>\n",
       "    <tr>\n",
       "      <th>Eastern Cape</th>\n",
       "      <td>0.048002</td>\n",
       "    </tr>\n",
       "  </tbody>\n",
       "</table>\n",
       "</div>"
      ],
      "text/plain": [
       "               prov_transport_m\n",
       "prov_best                      \n",
       "Western Cape           0.188927\n",
       "Gauteng                0.157395\n",
       "Northern Cape          0.090347\n",
       "Free State             0.082940\n",
       "North West             0.077020\n",
       "Mpumalanga             0.076187\n",
       "Limpopo                0.074267\n",
       "KwaZulu-Natal          0.049904\n",
       "Eastern Cape           0.048002"
      ]
     },
     "execution_count": 54,
     "metadata": {},
     "output_type": "execute_result"
    }
   ],
   "source": [
    "positive_1[['prov_transport_m','prov_best']].groupby(by='prov_best').mean().sort_values(by='prov_transport_m')[::-1]                                                                                                                                                                                                                                                                                                                                                                                                                                                                                                                                                                                                                                                                                                                                                                                                                                                                                                                                                                                                                                                                                                                                                                                                                                                                                                                                                                                                                                                                                                                                                                                                                                                                                                                                                                                                                                                                                                                                                                                                                                                                                                                                                                                                                                                                                                                                                                                                                                                                                                                                                                                                                                                                                                                                                                                                                                                                                                                                                                                                                                                                                                                                                                                                                                                                                                                                                                                                                                                                                                                                                                                                                                                                                                                                                                                                                                                                                                                                                                                                                                                                                                                                                                                                                                                                                                                                                                                                                                                                                                                                                                                                                                                                                                                                                                                                                                                                                                                                                                                                                                                                                                                                                                                                                                                                                                                                                                                                                                                                                                                                                                                                                                                                                                                                                                                                                                                                                                                                                                                                                                                                                                                                                                                                                                                                                                                                                                                                                                                                                                                                                                                                                                                                                                                                                                                                                                                                                                                                                                                                                                                                                                                                                                                                                                                                                                                                                                                                                                                                                                                                                                                                                                                                                                                                                                                                                                                                                                                                                                                                                                                                                                                                                                                                                                                                                                                                                                                                                                                                                                                                                                                                                                                                                                                                                                                                                                                                                                                                                                                                                                                                                                                                                                                                                                                                                                                                                                                                                                                                                                                                                                                                                                                                                                                                                                                                                                                                                                                                                                                                                                                                                                                                                                                                                                                                                                                                                                                                                                                                                                                                                                                                                                                                                                                                                                                                                                                                                                                                                                                                                                                                                                                                                                                                                                                                                                                                                                                                                                                                                                                                                                                                                                                                                                                                                                                                                                                                                                                                                                                                                                                                                                                                                                                                                                                                                                                                                                                                                                                                                                                                                                                                                                                                                                                                                                                                                                                                                                                                                                                                                                                                                                                                                                                                                                                                                                                                                                                                                                                                                                                                                                                                                                                                                                                                                                                                                                                                                                                                                                                                                                                                                                                                                                                                                                                                                                                                                                                                                                                                                                                                                                                                                                                                                                                                                                                                                                                                                                                                                                                                                                                                                                                                                                                                                                                                                                                                                                                                                                                                                                                                                                                                                                                                                                                                                                                                                                                                                                                                                                                                                                                                                                                                                                                                                                                                                                                                                                                                                                                                                                                                                                                                                                                                                                                                                                                                                                                                                                                                                                                                                                                                                                                                                                                                                                                                                                                                                                                                                                                                                                                                                                                                                                                                                                                                                                                                                                                                                                                                                                                                                                                                                                                                                                                                                                                                                                                                                                                                                                                                                                                                                                                                                                                                                                                                                                                                                                                                                                                                                                                                                                                                                                                                                                                                                                                                                                                                                                                                                                                                                                                                                                                                                                                                                                                                                                                                                                                                                                                                                                                                                                                                                                                                                                                                                                                                                                                                                                                                                                                                                                                                                                                                                                                                                                                                                                                                                                                                                                                                                                                                                                                                                                                                                                                                                                                                                                                                                                                                                                                                                                                                                                                                                                                                                                                                                                                                                                                                                                                                                                                                                                                                                                                                                                                                                                                                                                                                                                                                                                                                                                                                                                                                                                                                                                                                                                                                                                                                                                                                                                                                                                                                                                                                                                                                                                                                                                                                                                                                                                                                                                                                                                                                                                                                                                                                                                                                                                                                                                                                                                                                                                                                                                                                                                                                                                                                                                                                                                                                                                                                                                                                                                                                                                                                                                                                                                                                                                                                                                                                                                                                                                                                                                                                                                                                                                                                                                                                                                                                                                                                                                                                                                                                                                                                                                                                                                                                                                                                                                                                                                                                                                                                                                                                                                                                                                                                                                                                                                                                                                                                                                                                                                                                                                                                                                                                                                                                                                                                                                                                                                                                                                                                                                                                                                                                                                                                                                                                                                                                                                                                                                                                                                                                                                                                                                                                                                                                                                                                                                                                                                                                                                                                                                                                                                                                                                                                                                                                                                                                                                                                                                                                                                                                                                                                                                                                                                                                                                                                                                                                                                                                                                                                                                                                                                                                                                                                                                                                                                                                                                                                                                                                                                                                                                                                                                                                                                                                                                                                                                                                                                                                                                                                                                                                                                                                                                                                                                                                                                                                                                                                                                                                                                                                                                                                                                                                                                                                                                                                                                                                                                                                                                                                                                                                                                                                                                                                                                                                                                                                                                                                                                                                                                                                                                                                                                                                                                                                                                                                                                                                                                                                                                                                                                                                          "
   ]
  },
  {
   "cell_type": "code",
   "execution_count": 55,
   "id": "90736a32",
   "metadata": {},
   "outputs": [
    {
     "data": {
      "text/html": [
       "<div>\n",
       "<style scoped>\n",
       "    .dataframe tbody tr th:only-of-type {\n",
       "        vertical-align: middle;\n",
       "    }\n",
       "\n",
       "    .dataframe tbody tr th {\n",
       "        vertical-align: top;\n",
       "    }\n",
       "\n",
       "    .dataframe thead th {\n",
       "        text-align: right;\n",
       "    }\n",
       "</style>\n",
       "<table border=\"1\" class=\"dataframe\">\n",
       "  <thead>\n",
       "    <tr style=\"text-align: right;\">\n",
       "      <th></th>\n",
       "      <th>prov_transport_m</th>\n",
       "    </tr>\n",
       "    <tr>\n",
       "      <th>prov_best</th>\n",
       "      <th></th>\n",
       "    </tr>\n",
       "  </thead>\n",
       "  <tbody>\n",
       "    <tr>\n",
       "      <th>Western Cape</th>\n",
       "      <td>0.188927</td>\n",
       "    </tr>\n",
       "    <tr>\n",
       "      <th>Gauteng</th>\n",
       "      <td>0.157395</td>\n",
       "    </tr>\n",
       "    <tr>\n",
       "      <th>Northern Cape</th>\n",
       "      <td>0.090347</td>\n",
       "    </tr>\n",
       "    <tr>\n",
       "      <th>Free State</th>\n",
       "      <td>0.082940</td>\n",
       "    </tr>\n",
       "    <tr>\n",
       "      <th>North West</th>\n",
       "      <td>0.077020</td>\n",
       "    </tr>\n",
       "    <tr>\n",
       "      <th>Mpumalanga</th>\n",
       "      <td>0.076187</td>\n",
       "    </tr>\n",
       "    <tr>\n",
       "      <th>Limpopo</th>\n",
       "      <td>0.074267</td>\n",
       "    </tr>\n",
       "    <tr>\n",
       "      <th>Eastern Cape</th>\n",
       "      <td>0.048002</td>\n",
       "    </tr>\n",
       "  </tbody>\n",
       "</table>\n",
       "</div>"
      ],
      "text/plain": [
       "               prov_transport_m\n",
       "prov_best                      \n",
       "Western Cape           0.188927\n",
       "Gauteng                0.157395\n",
       "Northern Cape          0.090347\n",
       "Free State             0.082940\n",
       "North West             0.077020\n",
       "Mpumalanga             0.076187\n",
       "Limpopo                0.074267\n",
       "Eastern Cape           0.048002"
      ]
     },
     "execution_count": 55,
     "metadata": {},
     "output_type": "execute_result"
    }
   ],
   "source": [
    "positive_2[['prov_transport_m','prov_best']].groupby(by='prov_best').mean().sort_values(by='prov_transport_m')[::-1]"
   ]
  },
  {
   "cell_type": "code",
   "execution_count": 56,
   "id": "09b3d805",
   "metadata": {},
   "outputs": [
    {
     "data": {
      "text/html": [
       "<div>\n",
       "<style scoped>\n",
       "    .dataframe tbody tr th:only-of-type {\n",
       "        vertical-align: middle;\n",
       "    }\n",
       "\n",
       "    .dataframe tbody tr th {\n",
       "        vertical-align: top;\n",
       "    }\n",
       "\n",
       "    .dataframe thead th {\n",
       "        text-align: right;\n",
       "    }\n",
       "</style>\n",
       "<table border=\"1\" class=\"dataframe\">\n",
       "  <thead>\n",
       "    <tr style=\"text-align: right;\">\n",
       "      <th></th>\n",
       "      <th>prov_transport_m</th>\n",
       "    </tr>\n",
       "    <tr>\n",
       "      <th>prov_best</th>\n",
       "      <th></th>\n",
       "    </tr>\n",
       "  </thead>\n",
       "  <tbody>\n",
       "    <tr>\n",
       "      <th>Western Cape</th>\n",
       "      <td>0.188927</td>\n",
       "    </tr>\n",
       "    <tr>\n",
       "      <th>Gauteng</th>\n",
       "      <td>0.157395</td>\n",
       "    </tr>\n",
       "    <tr>\n",
       "      <th>North West</th>\n",
       "      <td>0.077020</td>\n",
       "    </tr>\n",
       "    <tr>\n",
       "      <th>Mpumalanga</th>\n",
       "      <td>0.076187</td>\n",
       "    </tr>\n",
       "    <tr>\n",
       "      <th>Eastern Cape</th>\n",
       "      <td>0.048002</td>\n",
       "    </tr>\n",
       "  </tbody>\n",
       "</table>\n",
       "</div>"
      ],
      "text/plain": [
       "              prov_transport_m\n",
       "prov_best                     \n",
       "Western Cape          0.188927\n",
       "Gauteng               0.157395\n",
       "North West            0.077020\n",
       "Mpumalanga            0.076187\n",
       "Eastern Cape          0.048002"
      ]
     },
     "execution_count": 56,
     "metadata": {},
     "output_type": "execute_result"
    }
   ],
   "source": [
    "positive_3[['prov_transport_m','prov_best']].groupby(by='prov_best').mean().sort_values(by='prov_transport_m')[::-1]"
   ]
  },
  {
   "cell_type": "markdown",
   "id": "817dad05",
   "metadata": {},
   "source": [
    "### "
   ]
  },
  {
   "cell_type": "markdown",
   "id": "2bde7fe8",
   "metadata": {},
   "source": [
    "5.  bank"
   ]
  },
  {
   "cell_type": "code",
   "execution_count": 57,
   "id": "b8a08ff9",
   "metadata": {},
   "outputs": [
    {
     "data": {
      "text/html": [
       "<div>\n",
       "<style scoped>\n",
       "    .dataframe tbody tr th:only-of-type {\n",
       "        vertical-align: middle;\n",
       "    }\n",
       "\n",
       "    .dataframe tbody tr th {\n",
       "        vertical-align: top;\n",
       "    }\n",
       "\n",
       "    .dataframe thead th {\n",
       "        text-align: right;\n",
       "    }\n",
       "</style>\n",
       "<table border=\"1\" class=\"dataframe\">\n",
       "  <thead>\n",
       "    <tr style=\"text-align: right;\">\n",
       "      <th></th>\n",
       "      <th>prov_bank_m</th>\n",
       "    </tr>\n",
       "    <tr>\n",
       "      <th>prov_best</th>\n",
       "      <th></th>\n",
       "    </tr>\n",
       "  </thead>\n",
       "  <tbody>\n",
       "    <tr>\n",
       "      <th>Free State</th>\n",
       "      <td>0.833597</td>\n",
       "    </tr>\n",
       "    <tr>\n",
       "      <th>Limpopo</th>\n",
       "      <td>0.795946</td>\n",
       "    </tr>\n",
       "    <tr>\n",
       "      <th>Eastern Cape</th>\n",
       "      <td>0.787291</td>\n",
       "    </tr>\n",
       "    <tr>\n",
       "      <th>Mpumalanga</th>\n",
       "      <td>0.756374</td>\n",
       "    </tr>\n",
       "    <tr>\n",
       "      <th>KwaZulu-Natal</th>\n",
       "      <td>0.742434</td>\n",
       "    </tr>\n",
       "    <tr>\n",
       "      <th>Northern Cape</th>\n",
       "      <td>0.733251</td>\n",
       "    </tr>\n",
       "    <tr>\n",
       "      <th>Gauteng</th>\n",
       "      <td>0.726172</td>\n",
       "    </tr>\n",
       "    <tr>\n",
       "      <th>Western Cape</th>\n",
       "      <td>0.699536</td>\n",
       "    </tr>\n",
       "    <tr>\n",
       "      <th>North West</th>\n",
       "      <td>0.670445</td>\n",
       "    </tr>\n",
       "  </tbody>\n",
       "</table>\n",
       "</div>"
      ],
      "text/plain": [
       "               prov_bank_m\n",
       "prov_best                 \n",
       "Free State        0.833597\n",
       "Limpopo           0.795946\n",
       "Eastern Cape      0.787291\n",
       "Mpumalanga        0.756374\n",
       "KwaZulu-Natal     0.742434\n",
       "Northern Cape     0.733251\n",
       "Gauteng           0.726172\n",
       "Western Cape      0.699536\n",
       "North West        0.670445"
      ]
     },
     "execution_count": 57,
     "metadata": {},
     "output_type": "execute_result"
    }
   ],
   "source": [
    "positive_1[['prov_bank_m','prov_best']].groupby(by='prov_best').mean().sort_values(by='prov_bank_m')[::-1]"
   ]
  },
  {
   "cell_type": "code",
   "execution_count": 58,
   "id": "4e3294a9",
   "metadata": {},
   "outputs": [
    {
     "data": {
      "text/html": [
       "<div>\n",
       "<style scoped>\n",
       "    .dataframe tbody tr th:only-of-type {\n",
       "        vertical-align: middle;\n",
       "    }\n",
       "\n",
       "    .dataframe tbody tr th {\n",
       "        vertical-align: top;\n",
       "    }\n",
       "\n",
       "    .dataframe thead th {\n",
       "        text-align: right;\n",
       "    }\n",
       "</style>\n",
       "<table border=\"1\" class=\"dataframe\">\n",
       "  <thead>\n",
       "    <tr style=\"text-align: right;\">\n",
       "      <th></th>\n",
       "      <th>prov_bank_m</th>\n",
       "    </tr>\n",
       "    <tr>\n",
       "      <th>prov_best</th>\n",
       "      <th></th>\n",
       "    </tr>\n",
       "  </thead>\n",
       "  <tbody>\n",
       "    <tr>\n",
       "      <th>Free State</th>\n",
       "      <td>0.833597</td>\n",
       "    </tr>\n",
       "    <tr>\n",
       "      <th>Limpopo</th>\n",
       "      <td>0.795946</td>\n",
       "    </tr>\n",
       "    <tr>\n",
       "      <th>Eastern Cape</th>\n",
       "      <td>0.787291</td>\n",
       "    </tr>\n",
       "    <tr>\n",
       "      <th>Mpumalanga</th>\n",
       "      <td>0.756374</td>\n",
       "    </tr>\n",
       "    <tr>\n",
       "      <th>Northern Cape</th>\n",
       "      <td>0.733251</td>\n",
       "    </tr>\n",
       "    <tr>\n",
       "      <th>Gauteng</th>\n",
       "      <td>0.726172</td>\n",
       "    </tr>\n",
       "    <tr>\n",
       "      <th>Western Cape</th>\n",
       "      <td>0.699536</td>\n",
       "    </tr>\n",
       "    <tr>\n",
       "      <th>North West</th>\n",
       "      <td>0.670445</td>\n",
       "    </tr>\n",
       "  </tbody>\n",
       "</table>\n",
       "</div>"
      ],
      "text/plain": [
       "               prov_bank_m\n",
       "prov_best                 \n",
       "Free State        0.833597\n",
       "Limpopo           0.795946\n",
       "Eastern Cape      0.787291\n",
       "Mpumalanga        0.756374\n",
       "Northern Cape     0.733251\n",
       "Gauteng           0.726172\n",
       "Western Cape      0.699536\n",
       "North West        0.670445"
      ]
     },
     "execution_count": 58,
     "metadata": {},
     "output_type": "execute_result"
    }
   ],
   "source": [
    "positive_2[['prov_bank_m','prov_best']].groupby(by='prov_best').mean().sort_values(by='prov_bank_m')[::-1]"
   ]
  },
  {
   "cell_type": "code",
   "execution_count": 59,
   "id": "74adf24d",
   "metadata": {},
   "outputs": [
    {
     "data": {
      "text/html": [
       "<div>\n",
       "<style scoped>\n",
       "    .dataframe tbody tr th:only-of-type {\n",
       "        vertical-align: middle;\n",
       "    }\n",
       "\n",
       "    .dataframe tbody tr th {\n",
       "        vertical-align: top;\n",
       "    }\n",
       "\n",
       "    .dataframe thead th {\n",
       "        text-align: right;\n",
       "    }\n",
       "</style>\n",
       "<table border=\"1\" class=\"dataframe\">\n",
       "  <thead>\n",
       "    <tr style=\"text-align: right;\">\n",
       "      <th></th>\n",
       "      <th>prov_bank_m</th>\n",
       "    </tr>\n",
       "    <tr>\n",
       "      <th>prov_best</th>\n",
       "      <th></th>\n",
       "    </tr>\n",
       "  </thead>\n",
       "  <tbody>\n",
       "    <tr>\n",
       "      <th>Eastern Cape</th>\n",
       "      <td>0.787291</td>\n",
       "    </tr>\n",
       "    <tr>\n",
       "      <th>Mpumalanga</th>\n",
       "      <td>0.756374</td>\n",
       "    </tr>\n",
       "    <tr>\n",
       "      <th>Gauteng</th>\n",
       "      <td>0.726172</td>\n",
       "    </tr>\n",
       "    <tr>\n",
       "      <th>Western Cape</th>\n",
       "      <td>0.699536</td>\n",
       "    </tr>\n",
       "    <tr>\n",
       "      <th>North West</th>\n",
       "      <td>0.670445</td>\n",
       "    </tr>\n",
       "  </tbody>\n",
       "</table>\n",
       "</div>"
      ],
      "text/plain": [
       "              prov_bank_m\n",
       "prov_best                \n",
       "Eastern Cape     0.787291\n",
       "Mpumalanga       0.756374\n",
       "Gauteng          0.726172\n",
       "Western Cape     0.699536\n",
       "North West       0.670445"
      ]
     },
     "execution_count": 59,
     "metadata": {},
     "output_type": "execute_result"
    }
   ],
   "source": [
    "positive_3[['prov_bank_m','prov_best']].groupby(by='prov_best').mean().sort_values(by='prov_bank_m')[::-1]"
   ]
  },
  {
   "cell_type": "code",
   "execution_count": null,
   "id": "d81c532a",
   "metadata": {},
   "outputs": [],
   "source": []
  },
  {
   "cell_type": "markdown",
   "id": "8e83be3e",
   "metadata": {},
   "source": [
    "6. firstaid"
   ]
  },
  {
   "cell_type": "code",
   "execution_count": 60,
   "id": "d8d47e4e",
   "metadata": {},
   "outputs": [
    {
     "data": {
      "text/html": [
       "<div>\n",
       "<style scoped>\n",
       "    .dataframe tbody tr th:only-of-type {\n",
       "        vertical-align: middle;\n",
       "    }\n",
       "\n",
       "    .dataframe tbody tr th {\n",
       "        vertical-align: top;\n",
       "    }\n",
       "\n",
       "    .dataframe thead th {\n",
       "        text-align: right;\n",
       "    }\n",
       "</style>\n",
       "<table border=\"1\" class=\"dataframe\">\n",
       "  <thead>\n",
       "    <tr style=\"text-align: right;\">\n",
       "      <th></th>\n",
       "      <th>prov_firstaid_m</th>\n",
       "    </tr>\n",
       "    <tr>\n",
       "      <th>prov_best</th>\n",
       "      <th></th>\n",
       "    </tr>\n",
       "  </thead>\n",
       "  <tbody>\n",
       "    <tr>\n",
       "      <th>Western Cape</th>\n",
       "      <td>0.863845</td>\n",
       "    </tr>\n",
       "    <tr>\n",
       "      <th>Gauteng</th>\n",
       "      <td>0.797669</td>\n",
       "    </tr>\n",
       "    <tr>\n",
       "      <th>Free State</th>\n",
       "      <td>0.603476</td>\n",
       "    </tr>\n",
       "    <tr>\n",
       "      <th>Mpumalanga</th>\n",
       "      <td>0.561341</td>\n",
       "    </tr>\n",
       "    <tr>\n",
       "      <th>Northern Cape</th>\n",
       "      <td>0.561250</td>\n",
       "    </tr>\n",
       "    <tr>\n",
       "      <th>North West</th>\n",
       "      <td>0.533389</td>\n",
       "    </tr>\n",
       "    <tr>\n",
       "      <th>KwaZulu-Natal</th>\n",
       "      <td>0.492662</td>\n",
       "    </tr>\n",
       "    <tr>\n",
       "      <th>Limpopo</th>\n",
       "      <td>0.483281</td>\n",
       "    </tr>\n",
       "    <tr>\n",
       "      <th>Eastern Cape</th>\n",
       "      <td>0.435065</td>\n",
       "    </tr>\n",
       "  </tbody>\n",
       "</table>\n",
       "</div>"
      ],
      "text/plain": [
       "               prov_firstaid_m\n",
       "prov_best                     \n",
       "Western Cape          0.863845\n",
       "Gauteng               0.797669\n",
       "Free State            0.603476\n",
       "Mpumalanga            0.561341\n",
       "Northern Cape         0.561250\n",
       "North West            0.533389\n",
       "KwaZulu-Natal         0.492662\n",
       "Limpopo               0.483281\n",
       "Eastern Cape          0.435065"
      ]
     },
     "execution_count": 60,
     "metadata": {},
     "output_type": "execute_result"
    }
   ],
   "source": [
    "positive_1[['prov_firstaid_m','prov_best']].groupby(by='prov_best').mean().sort_values(by='prov_firstaid_m')[::-1]"
   ]
  },
  {
   "cell_type": "code",
   "execution_count": 61,
   "id": "6d6b159d",
   "metadata": {},
   "outputs": [
    {
     "data": {
      "text/html": [
       "<div>\n",
       "<style scoped>\n",
       "    .dataframe tbody tr th:only-of-type {\n",
       "        vertical-align: middle;\n",
       "    }\n",
       "\n",
       "    .dataframe tbody tr th {\n",
       "        vertical-align: top;\n",
       "    }\n",
       "\n",
       "    .dataframe thead th {\n",
       "        text-align: right;\n",
       "    }\n",
       "</style>\n",
       "<table border=\"1\" class=\"dataframe\">\n",
       "  <thead>\n",
       "    <tr style=\"text-align: right;\">\n",
       "      <th></th>\n",
       "      <th>prov_firstaid_m</th>\n",
       "    </tr>\n",
       "    <tr>\n",
       "      <th>prov_best</th>\n",
       "      <th></th>\n",
       "    </tr>\n",
       "  </thead>\n",
       "  <tbody>\n",
       "    <tr>\n",
       "      <th>Western Cape</th>\n",
       "      <td>0.863845</td>\n",
       "    </tr>\n",
       "    <tr>\n",
       "      <th>Gauteng</th>\n",
       "      <td>0.797669</td>\n",
       "    </tr>\n",
       "    <tr>\n",
       "      <th>Free State</th>\n",
       "      <td>0.603476</td>\n",
       "    </tr>\n",
       "    <tr>\n",
       "      <th>Mpumalanga</th>\n",
       "      <td>0.561341</td>\n",
       "    </tr>\n",
       "    <tr>\n",
       "      <th>Northern Cape</th>\n",
       "      <td>0.561250</td>\n",
       "    </tr>\n",
       "    <tr>\n",
       "      <th>North West</th>\n",
       "      <td>0.533389</td>\n",
       "    </tr>\n",
       "    <tr>\n",
       "      <th>Limpopo</th>\n",
       "      <td>0.483281</td>\n",
       "    </tr>\n",
       "    <tr>\n",
       "      <th>Eastern Cape</th>\n",
       "      <td>0.435065</td>\n",
       "    </tr>\n",
       "  </tbody>\n",
       "</table>\n",
       "</div>"
      ],
      "text/plain": [
       "               prov_firstaid_m\n",
       "prov_best                     \n",
       "Western Cape          0.863845\n",
       "Gauteng               0.797669\n",
       "Free State            0.603476\n",
       "Mpumalanga            0.561341\n",
       "Northern Cape         0.561250\n",
       "North West            0.533389\n",
       "Limpopo               0.483281\n",
       "Eastern Cape          0.435065"
      ]
     },
     "execution_count": 61,
     "metadata": {},
     "output_type": "execute_result"
    }
   ],
   "source": [
    "positive_2[['prov_firstaid_m','prov_best']].groupby(by='prov_best').mean().sort_values(by='prov_firstaid_m')[::-1]"
   ]
  },
  {
   "cell_type": "code",
   "execution_count": 62,
   "id": "04910a75",
   "metadata": {},
   "outputs": [
    {
     "data": {
      "text/html": [
       "<div>\n",
       "<style scoped>\n",
       "    .dataframe tbody tr th:only-of-type {\n",
       "        vertical-align: middle;\n",
       "    }\n",
       "\n",
       "    .dataframe tbody tr th {\n",
       "        vertical-align: top;\n",
       "    }\n",
       "\n",
       "    .dataframe thead th {\n",
       "        text-align: right;\n",
       "    }\n",
       "</style>\n",
       "<table border=\"1\" class=\"dataframe\">\n",
       "  <thead>\n",
       "    <tr style=\"text-align: right;\">\n",
       "      <th></th>\n",
       "      <th>prov_firstaid_m</th>\n",
       "    </tr>\n",
       "    <tr>\n",
       "      <th>prov_best</th>\n",
       "      <th></th>\n",
       "    </tr>\n",
       "  </thead>\n",
       "  <tbody>\n",
       "    <tr>\n",
       "      <th>Western Cape</th>\n",
       "      <td>0.863845</td>\n",
       "    </tr>\n",
       "    <tr>\n",
       "      <th>Gauteng</th>\n",
       "      <td>0.797669</td>\n",
       "    </tr>\n",
       "    <tr>\n",
       "      <th>Mpumalanga</th>\n",
       "      <td>0.561341</td>\n",
       "    </tr>\n",
       "    <tr>\n",
       "      <th>North West</th>\n",
       "      <td>0.533389</td>\n",
       "    </tr>\n",
       "    <tr>\n",
       "      <th>Eastern Cape</th>\n",
       "      <td>0.435065</td>\n",
       "    </tr>\n",
       "  </tbody>\n",
       "</table>\n",
       "</div>"
      ],
      "text/plain": [
       "              prov_firstaid_m\n",
       "prov_best                    \n",
       "Western Cape         0.863845\n",
       "Gauteng              0.797669\n",
       "Mpumalanga           0.561341\n",
       "North West           0.533389\n",
       "Eastern Cape         0.435065"
      ]
     },
     "execution_count": 62,
     "metadata": {},
     "output_type": "execute_result"
    }
   ],
   "source": [
    "positive_3[['prov_firstaid_m','prov_best']].groupby(by='prov_best').mean().sort_values(by='prov_firstaid_m')[::-1]"
   ]
  },
  {
   "cell_type": "markdown",
   "id": "d9e31665",
   "metadata": {},
   "source": [
    "7. Separated"
   ]
  },
  {
   "cell_type": "code",
   "execution_count": null,
   "id": "4ab9b93a",
   "metadata": {},
   "outputs": [],
   "source": []
  },
  {
   "cell_type": "code",
   "execution_count": 63,
   "id": "5fd75cd7",
   "metadata": {},
   "outputs": [
    {
     "data": {
      "text/html": [
       "<div>\n",
       "<style scoped>\n",
       "    .dataframe tbody tr th:only-of-type {\n",
       "        vertical-align: middle;\n",
       "    }\n",
       "\n",
       "    .dataframe tbody tr th {\n",
       "        vertical-align: top;\n",
       "    }\n",
       "\n",
       "    .dataframe thead th {\n",
       "        text-align: right;\n",
       "    }\n",
       "</style>\n",
       "<table border=\"1\" class=\"dataframe\">\n",
       "  <thead>\n",
       "    <tr style=\"text-align: right;\">\n",
       "      <th></th>\n",
       "      <th>prov_separate_m</th>\n",
       "    </tr>\n",
       "    <tr>\n",
       "      <th>prov_best</th>\n",
       "      <th></th>\n",
       "    </tr>\n",
       "  </thead>\n",
       "  <tbody>\n",
       "    <tr>\n",
       "      <th>Gauteng</th>\n",
       "      <td>1.678771</td>\n",
       "    </tr>\n",
       "    <tr>\n",
       "      <th>Free State</th>\n",
       "      <td>1.677419</td>\n",
       "    </tr>\n",
       "    <tr>\n",
       "      <th>Western Cape</th>\n",
       "      <td>1.625977</td>\n",
       "    </tr>\n",
       "    <tr>\n",
       "      <th>Limpopo</th>\n",
       "      <td>1.611079</td>\n",
       "    </tr>\n",
       "    <tr>\n",
       "      <th>Mpumalanga</th>\n",
       "      <td>1.596894</td>\n",
       "    </tr>\n",
       "    <tr>\n",
       "      <th>North West</th>\n",
       "      <td>1.503967</td>\n",
       "    </tr>\n",
       "    <tr>\n",
       "      <th>Northern Cape</th>\n",
       "      <td>1.472839</td>\n",
       "    </tr>\n",
       "    <tr>\n",
       "      <th>KwaZulu-Natal</th>\n",
       "      <td>1.331200</td>\n",
       "    </tr>\n",
       "    <tr>\n",
       "      <th>Eastern Cape</th>\n",
       "      <td>1.120486</td>\n",
       "    </tr>\n",
       "  </tbody>\n",
       "</table>\n",
       "</div>"
      ],
      "text/plain": [
       "               prov_separate_m\n",
       "prov_best                     \n",
       "Gauteng               1.678771\n",
       "Free State            1.677419\n",
       "Western Cape          1.625977\n",
       "Limpopo               1.611079\n",
       "Mpumalanga            1.596894\n",
       "North West            1.503967\n",
       "Northern Cape         1.472839\n",
       "KwaZulu-Natal         1.331200\n",
       "Eastern Cape          1.120486"
      ]
     },
     "execution_count": 63,
     "metadata": {},
     "output_type": "execute_result"
    }
   ],
   "source": [
    "positive_1[['prov_separate_m','prov_best']].groupby(by='prov_best').mean().sort_values(by='prov_separate_m')[::-1]"
   ]
  },
  {
   "cell_type": "code",
   "execution_count": 64,
   "id": "0df0e36a",
   "metadata": {},
   "outputs": [
    {
     "data": {
      "text/html": [
       "<div>\n",
       "<style scoped>\n",
       "    .dataframe tbody tr th:only-of-type {\n",
       "        vertical-align: middle;\n",
       "    }\n",
       "\n",
       "    .dataframe tbody tr th {\n",
       "        vertical-align: top;\n",
       "    }\n",
       "\n",
       "    .dataframe thead th {\n",
       "        text-align: right;\n",
       "    }\n",
       "</style>\n",
       "<table border=\"1\" class=\"dataframe\">\n",
       "  <thead>\n",
       "    <tr style=\"text-align: right;\">\n",
       "      <th></th>\n",
       "      <th>prov_separate_m</th>\n",
       "    </tr>\n",
       "    <tr>\n",
       "      <th>prov_best</th>\n",
       "      <th></th>\n",
       "    </tr>\n",
       "  </thead>\n",
       "  <tbody>\n",
       "    <tr>\n",
       "      <th>Gauteng</th>\n",
       "      <td>1.678771</td>\n",
       "    </tr>\n",
       "    <tr>\n",
       "      <th>Free State</th>\n",
       "      <td>1.677419</td>\n",
       "    </tr>\n",
       "    <tr>\n",
       "      <th>Western Cape</th>\n",
       "      <td>1.625977</td>\n",
       "    </tr>\n",
       "    <tr>\n",
       "      <th>Limpopo</th>\n",
       "      <td>1.611079</td>\n",
       "    </tr>\n",
       "    <tr>\n",
       "      <th>Mpumalanga</th>\n",
       "      <td>1.596894</td>\n",
       "    </tr>\n",
       "    <tr>\n",
       "      <th>North West</th>\n",
       "      <td>1.503967</td>\n",
       "    </tr>\n",
       "    <tr>\n",
       "      <th>Northern Cape</th>\n",
       "      <td>1.472839</td>\n",
       "    </tr>\n",
       "    <tr>\n",
       "      <th>Eastern Cape</th>\n",
       "      <td>1.120486</td>\n",
       "    </tr>\n",
       "  </tbody>\n",
       "</table>\n",
       "</div>"
      ],
      "text/plain": [
       "               prov_separate_m\n",
       "prov_best                     \n",
       "Gauteng               1.678771\n",
       "Free State            1.677419\n",
       "Western Cape          1.625977\n",
       "Limpopo               1.611079\n",
       "Mpumalanga            1.596894\n",
       "North West            1.503967\n",
       "Northern Cape         1.472839\n",
       "Eastern Cape          1.120486"
      ]
     },
     "execution_count": 64,
     "metadata": {},
     "output_type": "execute_result"
    }
   ],
   "source": [
    "positive_2[['prov_separate_m','prov_best']].groupby(by='prov_best').mean().sort_values(by='prov_separate_m')[::-1]"
   ]
  },
  {
   "cell_type": "code",
   "execution_count": 65,
   "id": "82596098",
   "metadata": {},
   "outputs": [
    {
     "data": {
      "text/html": [
       "<div>\n",
       "<style scoped>\n",
       "    .dataframe tbody tr th:only-of-type {\n",
       "        vertical-align: middle;\n",
       "    }\n",
       "\n",
       "    .dataframe tbody tr th {\n",
       "        vertical-align: top;\n",
       "    }\n",
       "\n",
       "    .dataframe thead th {\n",
       "        text-align: right;\n",
       "    }\n",
       "</style>\n",
       "<table border=\"1\" class=\"dataframe\">\n",
       "  <thead>\n",
       "    <tr style=\"text-align: right;\">\n",
       "      <th></th>\n",
       "      <th>prov_separate_m</th>\n",
       "    </tr>\n",
       "    <tr>\n",
       "      <th>prov_best</th>\n",
       "      <th></th>\n",
       "    </tr>\n",
       "  </thead>\n",
       "  <tbody>\n",
       "    <tr>\n",
       "      <th>Gauteng</th>\n",
       "      <td>1.678771</td>\n",
       "    </tr>\n",
       "    <tr>\n",
       "      <th>Western Cape</th>\n",
       "      <td>1.625977</td>\n",
       "    </tr>\n",
       "    <tr>\n",
       "      <th>Mpumalanga</th>\n",
       "      <td>1.596894</td>\n",
       "    </tr>\n",
       "    <tr>\n",
       "      <th>North West</th>\n",
       "      <td>1.503967</td>\n",
       "    </tr>\n",
       "    <tr>\n",
       "      <th>Eastern Cape</th>\n",
       "      <td>1.120486</td>\n",
       "    </tr>\n",
       "  </tbody>\n",
       "</table>\n",
       "</div>"
      ],
      "text/plain": [
       "              prov_separate_m\n",
       "prov_best                    \n",
       "Gauteng              1.678771\n",
       "Western Cape         1.625977\n",
       "Mpumalanga           1.596894\n",
       "North West           1.503967\n",
       "Eastern Cape         1.120486"
      ]
     },
     "execution_count": 65,
     "metadata": {},
     "output_type": "execute_result"
    }
   ],
   "source": [
    "positive_3[['prov_separate_m','prov_best']].groupby(by='prov_best').mean().sort_values(by='prov_separate_m')[::-1]"
   ]
  },
  {
   "cell_type": "code",
   "execution_count": null,
   "id": "243922df",
   "metadata": {},
   "outputs": [],
   "source": []
  },
  {
   "cell_type": "markdown",
   "id": "d35a7bfd",
   "metadata": {},
   "source": [
    "8. meals"
   ]
  },
  {
   "cell_type": "code",
   "execution_count": 66,
   "id": "aa7d27bf",
   "metadata": {},
   "outputs": [
    {
     "data": {
      "text/html": [
       "<div>\n",
       "<style scoped>\n",
       "    .dataframe tbody tr th:only-of-type {\n",
       "        vertical-align: middle;\n",
       "    }\n",
       "\n",
       "    .dataframe tbody tr th {\n",
       "        vertical-align: top;\n",
       "    }\n",
       "\n",
       "    .dataframe thead th {\n",
       "        text-align: right;\n",
       "    }\n",
       "</style>\n",
       "<table border=\"1\" class=\"dataframe\">\n",
       "  <thead>\n",
       "    <tr style=\"text-align: right;\">\n",
       "      <th></th>\n",
       "      <th>prov_meals_m</th>\n",
       "    </tr>\n",
       "    <tr>\n",
       "      <th>prov_best</th>\n",
       "      <th></th>\n",
       "    </tr>\n",
       "  </thead>\n",
       "  <tbody>\n",
       "    <tr>\n",
       "      <th>Limpopo</th>\n",
       "      <td>0.984429</td>\n",
       "    </tr>\n",
       "    <tr>\n",
       "      <th>Mpumalanga</th>\n",
       "      <td>0.983433</td>\n",
       "    </tr>\n",
       "    <tr>\n",
       "      <th>North West</th>\n",
       "      <td>0.980400</td>\n",
       "    </tr>\n",
       "    <tr>\n",
       "      <th>Gauteng</th>\n",
       "      <td>0.979614</td>\n",
       "    </tr>\n",
       "    <tr>\n",
       "      <th>Eastern Cape</th>\n",
       "      <td>0.976064</td>\n",
       "    </tr>\n",
       "    <tr>\n",
       "      <th>Free State</th>\n",
       "      <td>0.973479</td>\n",
       "    </tr>\n",
       "    <tr>\n",
       "      <th>KwaZulu-Natal</th>\n",
       "      <td>0.972780</td>\n",
       "    </tr>\n",
       "    <tr>\n",
       "      <th>Western Cape</th>\n",
       "      <td>0.960496</td>\n",
       "    </tr>\n",
       "    <tr>\n",
       "      <th>Northern Cape</th>\n",
       "      <td>0.918519</td>\n",
       "    </tr>\n",
       "  </tbody>\n",
       "</table>\n",
       "</div>"
      ],
      "text/plain": [
       "               prov_meals_m\n",
       "prov_best                  \n",
       "Limpopo            0.984429\n",
       "Mpumalanga         0.983433\n",
       "North West         0.980400\n",
       "Gauteng            0.979614\n",
       "Eastern Cape       0.976064\n",
       "Free State         0.973479\n",
       "KwaZulu-Natal      0.972780\n",
       "Western Cape       0.960496\n",
       "Northern Cape      0.918519"
      ]
     },
     "execution_count": 66,
     "metadata": {},
     "output_type": "execute_result"
    }
   ],
   "source": [
    "positive_1[['prov_meals_m','prov_best']].groupby(by='prov_best').mean().sort_values(by='prov_meals_m')[::-1]"
   ]
  },
  {
   "cell_type": "code",
   "execution_count": 67,
   "id": "68d1ff76",
   "metadata": {},
   "outputs": [
    {
     "data": {
      "text/html": [
       "<div>\n",
       "<style scoped>\n",
       "    .dataframe tbody tr th:only-of-type {\n",
       "        vertical-align: middle;\n",
       "    }\n",
       "\n",
       "    .dataframe tbody tr th {\n",
       "        vertical-align: top;\n",
       "    }\n",
       "\n",
       "    .dataframe thead th {\n",
       "        text-align: right;\n",
       "    }\n",
       "</style>\n",
       "<table border=\"1\" class=\"dataframe\">\n",
       "  <thead>\n",
       "    <tr style=\"text-align: right;\">\n",
       "      <th></th>\n",
       "      <th>prov_meals_m</th>\n",
       "    </tr>\n",
       "    <tr>\n",
       "      <th>prov_best</th>\n",
       "      <th></th>\n",
       "    </tr>\n",
       "  </thead>\n",
       "  <tbody>\n",
       "    <tr>\n",
       "      <th>Limpopo</th>\n",
       "      <td>0.984429</td>\n",
       "    </tr>\n",
       "    <tr>\n",
       "      <th>Mpumalanga</th>\n",
       "      <td>0.983433</td>\n",
       "    </tr>\n",
       "    <tr>\n",
       "      <th>North West</th>\n",
       "      <td>0.980400</td>\n",
       "    </tr>\n",
       "    <tr>\n",
       "      <th>Gauteng</th>\n",
       "      <td>0.979614</td>\n",
       "    </tr>\n",
       "    <tr>\n",
       "      <th>Eastern Cape</th>\n",
       "      <td>0.976064</td>\n",
       "    </tr>\n",
       "    <tr>\n",
       "      <th>Free State</th>\n",
       "      <td>0.973479</td>\n",
       "    </tr>\n",
       "    <tr>\n",
       "      <th>Western Cape</th>\n",
       "      <td>0.960496</td>\n",
       "    </tr>\n",
       "    <tr>\n",
       "      <th>Northern Cape</th>\n",
       "      <td>0.918519</td>\n",
       "    </tr>\n",
       "  </tbody>\n",
       "</table>\n",
       "</div>"
      ],
      "text/plain": [
       "               prov_meals_m\n",
       "prov_best                  \n",
       "Limpopo            0.984429\n",
       "Mpumalanga         0.983433\n",
       "North West         0.980400\n",
       "Gauteng            0.979614\n",
       "Eastern Cape       0.976064\n",
       "Free State         0.973479\n",
       "Western Cape       0.960496\n",
       "Northern Cape      0.918519"
      ]
     },
     "execution_count": 67,
     "metadata": {},
     "output_type": "execute_result"
    }
   ],
   "source": [
    "positive_2[['prov_meals_m','prov_best']].groupby(by='prov_best').mean().sort_values(by='prov_meals_m')[::-1]"
   ]
  },
  {
   "cell_type": "code",
   "execution_count": 68,
   "id": "16b14095",
   "metadata": {},
   "outputs": [
    {
     "data": {
      "text/html": [
       "<div>\n",
       "<style scoped>\n",
       "    .dataframe tbody tr th:only-of-type {\n",
       "        vertical-align: middle;\n",
       "    }\n",
       "\n",
       "    .dataframe tbody tr th {\n",
       "        vertical-align: top;\n",
       "    }\n",
       "\n",
       "    .dataframe thead th {\n",
       "        text-align: right;\n",
       "    }\n",
       "</style>\n",
       "<table border=\"1\" class=\"dataframe\">\n",
       "  <thead>\n",
       "    <tr style=\"text-align: right;\">\n",
       "      <th></th>\n",
       "      <th>prov_meals_m</th>\n",
       "    </tr>\n",
       "    <tr>\n",
       "      <th>prov_best</th>\n",
       "      <th></th>\n",
       "    </tr>\n",
       "  </thead>\n",
       "  <tbody>\n",
       "    <tr>\n",
       "      <th>Mpumalanga</th>\n",
       "      <td>0.983433</td>\n",
       "    </tr>\n",
       "    <tr>\n",
       "      <th>North West</th>\n",
       "      <td>0.980400</td>\n",
       "    </tr>\n",
       "    <tr>\n",
       "      <th>Gauteng</th>\n",
       "      <td>0.979614</td>\n",
       "    </tr>\n",
       "    <tr>\n",
       "      <th>Eastern Cape</th>\n",
       "      <td>0.976064</td>\n",
       "    </tr>\n",
       "    <tr>\n",
       "      <th>Western Cape</th>\n",
       "      <td>0.960496</td>\n",
       "    </tr>\n",
       "  </tbody>\n",
       "</table>\n",
       "</div>"
      ],
      "text/plain": [
       "              prov_meals_m\n",
       "prov_best                 \n",
       "Mpumalanga        0.983433\n",
       "North West        0.980400\n",
       "Gauteng           0.979614\n",
       "Eastern Cape      0.976064\n",
       "Western Cape      0.960496"
      ]
     },
     "execution_count": 68,
     "metadata": {},
     "output_type": "execute_result"
    }
   ],
   "source": [
    "positive_3[['prov_meals_m','prov_best']].groupby(by='prov_best').mean().sort_values(by='prov_meals_m')[::-1]"
   ]
  },
  {
   "cell_type": "markdown",
   "id": "a7601c70",
   "metadata": {},
   "source": [
    "10. Aftercare"
   ]
  },
  {
   "cell_type": "code",
   "execution_count": 69,
   "id": "f7608ab8",
   "metadata": {},
   "outputs": [
    {
     "data": {
      "text/html": [
       "<div>\n",
       "<style scoped>\n",
       "    .dataframe tbody tr th:only-of-type {\n",
       "        vertical-align: middle;\n",
       "    }\n",
       "\n",
       "    .dataframe tbody tr th {\n",
       "        vertical-align: top;\n",
       "    }\n",
       "\n",
       "    .dataframe thead th {\n",
       "        text-align: right;\n",
       "    }\n",
       "</style>\n",
       "<table border=\"1\" class=\"dataframe\">\n",
       "  <thead>\n",
       "    <tr style=\"text-align: right;\">\n",
       "      <th></th>\n",
       "      <th>prov_aftercare_m</th>\n",
       "    </tr>\n",
       "    <tr>\n",
       "      <th>prov_best</th>\n",
       "      <th></th>\n",
       "    </tr>\n",
       "  </thead>\n",
       "  <tbody>\n",
       "    <tr>\n",
       "      <th>Gauteng</th>\n",
       "      <td>0.396844</td>\n",
       "    </tr>\n",
       "    <tr>\n",
       "      <th>Western Cape</th>\n",
       "      <td>0.328276</td>\n",
       "    </tr>\n",
       "    <tr>\n",
       "      <th>Mpumalanga</th>\n",
       "      <td>0.217790</td>\n",
       "    </tr>\n",
       "    <tr>\n",
       "      <th>North West</th>\n",
       "      <td>0.202505</td>\n",
       "    </tr>\n",
       "    <tr>\n",
       "      <th>Eastern Cape</th>\n",
       "      <td>0.170690</td>\n",
       "    </tr>\n",
       "    <tr>\n",
       "      <th>KwaZulu-Natal</th>\n",
       "      <td>0.159012</td>\n",
       "    </tr>\n",
       "    <tr>\n",
       "      <th>Free State</th>\n",
       "      <td>0.157648</td>\n",
       "    </tr>\n",
       "    <tr>\n",
       "      <th>Northern Cape</th>\n",
       "      <td>0.141975</td>\n",
       "    </tr>\n",
       "    <tr>\n",
       "      <th>Limpopo</th>\n",
       "      <td>0.130267</td>\n",
       "    </tr>\n",
       "  </tbody>\n",
       "</table>\n",
       "</div>"
      ],
      "text/plain": [
       "               prov_aftercare_m\n",
       "prov_best                      \n",
       "Gauteng                0.396844\n",
       "Western Cape           0.328276\n",
       "Mpumalanga             0.217790\n",
       "North West             0.202505\n",
       "Eastern Cape           0.170690\n",
       "KwaZulu-Natal          0.159012\n",
       "Free State             0.157648\n",
       "Northern Cape          0.141975\n",
       "Limpopo                0.130267"
      ]
     },
     "execution_count": 69,
     "metadata": {},
     "output_type": "execute_result"
    }
   ],
   "source": [
    "positive_1[['prov_aftercare_m','prov_best']].groupby(by='prov_best').mean().sort_values(by='prov_aftercare_m')[::-1]"
   ]
  },
  {
   "cell_type": "code",
   "execution_count": 70,
   "id": "6f4eb849",
   "metadata": {},
   "outputs": [
    {
     "data": {
      "text/html": [
       "<div>\n",
       "<style scoped>\n",
       "    .dataframe tbody tr th:only-of-type {\n",
       "        vertical-align: middle;\n",
       "    }\n",
       "\n",
       "    .dataframe tbody tr th {\n",
       "        vertical-align: top;\n",
       "    }\n",
       "\n",
       "    .dataframe thead th {\n",
       "        text-align: right;\n",
       "    }\n",
       "</style>\n",
       "<table border=\"1\" class=\"dataframe\">\n",
       "  <thead>\n",
       "    <tr style=\"text-align: right;\">\n",
       "      <th></th>\n",
       "      <th>prov_aftercare_m</th>\n",
       "    </tr>\n",
       "    <tr>\n",
       "      <th>prov_best</th>\n",
       "      <th></th>\n",
       "    </tr>\n",
       "  </thead>\n",
       "  <tbody>\n",
       "    <tr>\n",
       "      <th>Gauteng</th>\n",
       "      <td>0.396844</td>\n",
       "    </tr>\n",
       "    <tr>\n",
       "      <th>Western Cape</th>\n",
       "      <td>0.328276</td>\n",
       "    </tr>\n",
       "    <tr>\n",
       "      <th>Mpumalanga</th>\n",
       "      <td>0.217790</td>\n",
       "    </tr>\n",
       "    <tr>\n",
       "      <th>North West</th>\n",
       "      <td>0.202505</td>\n",
       "    </tr>\n",
       "    <tr>\n",
       "      <th>Eastern Cape</th>\n",
       "      <td>0.170690</td>\n",
       "    </tr>\n",
       "    <tr>\n",
       "      <th>Free State</th>\n",
       "      <td>0.157648</td>\n",
       "    </tr>\n",
       "    <tr>\n",
       "      <th>Northern Cape</th>\n",
       "      <td>0.141975</td>\n",
       "    </tr>\n",
       "    <tr>\n",
       "      <th>Limpopo</th>\n",
       "      <td>0.130267</td>\n",
       "    </tr>\n",
       "  </tbody>\n",
       "</table>\n",
       "</div>"
      ],
      "text/plain": [
       "               prov_aftercare_m\n",
       "prov_best                      \n",
       "Gauteng                0.396844\n",
       "Western Cape           0.328276\n",
       "Mpumalanga             0.217790\n",
       "North West             0.202505\n",
       "Eastern Cape           0.170690\n",
       "Free State             0.157648\n",
       "Northern Cape          0.141975\n",
       "Limpopo                0.130267"
      ]
     },
     "execution_count": 70,
     "metadata": {},
     "output_type": "execute_result"
    }
   ],
   "source": [
    "positive_2[['prov_aftercare_m','prov_best']].groupby(by='prov_best').mean().sort_values(by='prov_aftercare_m')[::-1]"
   ]
  },
  {
   "cell_type": "code",
   "execution_count": 71,
   "id": "85fc519f",
   "metadata": {},
   "outputs": [
    {
     "data": {
      "text/html": [
       "<div>\n",
       "<style scoped>\n",
       "    .dataframe tbody tr th:only-of-type {\n",
       "        vertical-align: middle;\n",
       "    }\n",
       "\n",
       "    .dataframe tbody tr th {\n",
       "        vertical-align: top;\n",
       "    }\n",
       "\n",
       "    .dataframe thead th {\n",
       "        text-align: right;\n",
       "    }\n",
       "</style>\n",
       "<table border=\"1\" class=\"dataframe\">\n",
       "  <thead>\n",
       "    <tr style=\"text-align: right;\">\n",
       "      <th></th>\n",
       "      <th>prov_aftercare_m</th>\n",
       "    </tr>\n",
       "    <tr>\n",
       "      <th>prov_best</th>\n",
       "      <th></th>\n",
       "    </tr>\n",
       "  </thead>\n",
       "  <tbody>\n",
       "    <tr>\n",
       "      <th>Gauteng</th>\n",
       "      <td>0.396844</td>\n",
       "    </tr>\n",
       "    <tr>\n",
       "      <th>Western Cape</th>\n",
       "      <td>0.328276</td>\n",
       "    </tr>\n",
       "    <tr>\n",
       "      <th>Mpumalanga</th>\n",
       "      <td>0.217790</td>\n",
       "    </tr>\n",
       "    <tr>\n",
       "      <th>North West</th>\n",
       "      <td>0.202505</td>\n",
       "    </tr>\n",
       "    <tr>\n",
       "      <th>Eastern Cape</th>\n",
       "      <td>0.170690</td>\n",
       "    </tr>\n",
       "  </tbody>\n",
       "</table>\n",
       "</div>"
      ],
      "text/plain": [
       "              prov_aftercare_m\n",
       "prov_best                     \n",
       "Gauteng               0.396844\n",
       "Western Cape          0.328276\n",
       "Mpumalanga            0.217790\n",
       "North West            0.202505\n",
       "Eastern Cape          0.170690"
      ]
     },
     "execution_count": 71,
     "metadata": {},
     "output_type": "execute_result"
    }
   ],
   "source": [
    "positive_3[['prov_aftercare_m','prov_best']].groupby(by='prov_best').mean().sort_values(by='prov_aftercare_m')[::-1]"
   ]
  },
  {
   "cell_type": "code",
   "execution_count": null,
   "id": "fc1eee96",
   "metadata": {},
   "outputs": [],
   "source": []
  },
  {
   "cell_type": "markdown",
   "id": "dfeba45c",
   "metadata": {},
   "source": [
    "11.space"
   ]
  },
  {
   "cell_type": "code",
   "execution_count": 72,
   "id": "925db9d0",
   "metadata": {},
   "outputs": [
    {
     "data": {
      "text/html": [
       "<div>\n",
       "<style scoped>\n",
       "    .dataframe tbody tr th:only-of-type {\n",
       "        vertical-align: middle;\n",
       "    }\n",
       "\n",
       "    .dataframe tbody tr th {\n",
       "        vertical-align: top;\n",
       "    }\n",
       "\n",
       "    .dataframe thead th {\n",
       "        text-align: right;\n",
       "    }\n",
       "</style>\n",
       "<table border=\"1\" class=\"dataframe\">\n",
       "  <thead>\n",
       "    <tr style=\"text-align: right;\">\n",
       "      <th></th>\n",
       "      <th>prov_space_m</th>\n",
       "    </tr>\n",
       "    <tr>\n",
       "      <th>prov_best</th>\n",
       "      <th></th>\n",
       "    </tr>\n",
       "  </thead>\n",
       "  <tbody>\n",
       "    <tr>\n",
       "      <th>Mpumalanga</th>\n",
       "      <td>0.872460</td>\n",
       "    </tr>\n",
       "    <tr>\n",
       "      <th>Gauteng</th>\n",
       "      <td>0.872104</td>\n",
       "    </tr>\n",
       "    <tr>\n",
       "      <th>North West</th>\n",
       "      <td>0.865585</td>\n",
       "    </tr>\n",
       "    <tr>\n",
       "      <th>Free State</th>\n",
       "      <td>0.839613</td>\n",
       "    </tr>\n",
       "    <tr>\n",
       "      <th>Western Cape</th>\n",
       "      <td>0.836897</td>\n",
       "    </tr>\n",
       "    <tr>\n",
       "      <th>KwaZulu-Natal</th>\n",
       "      <td>0.810458</td>\n",
       "    </tr>\n",
       "    <tr>\n",
       "      <th>Northern Cape</th>\n",
       "      <td>0.806530</td>\n",
       "    </tr>\n",
       "    <tr>\n",
       "      <th>Limpopo</th>\n",
       "      <td>0.798429</td>\n",
       "    </tr>\n",
       "    <tr>\n",
       "      <th>Eastern Cape</th>\n",
       "      <td>0.756221</td>\n",
       "    </tr>\n",
       "  </tbody>\n",
       "</table>\n",
       "</div>"
      ],
      "text/plain": [
       "               prov_space_m\n",
       "prov_best                  \n",
       "Mpumalanga         0.872460\n",
       "Gauteng            0.872104\n",
       "North West         0.865585\n",
       "Free State         0.839613\n",
       "Western Cape       0.836897\n",
       "KwaZulu-Natal      0.810458\n",
       "Northern Cape      0.806530\n",
       "Limpopo            0.798429\n",
       "Eastern Cape       0.756221"
      ]
     },
     "execution_count": 72,
     "metadata": {},
     "output_type": "execute_result"
    }
   ],
   "source": [
    "positive_1[['prov_space_m','prov_best']].groupby(by='prov_best').mean().sort_values(by='prov_space_m')[::-1]"
   ]
  },
  {
   "cell_type": "code",
   "execution_count": 73,
   "id": "d13026c7",
   "metadata": {},
   "outputs": [
    {
     "data": {
      "text/html": [
       "<div>\n",
       "<style scoped>\n",
       "    .dataframe tbody tr th:only-of-type {\n",
       "        vertical-align: middle;\n",
       "    }\n",
       "\n",
       "    .dataframe tbody tr th {\n",
       "        vertical-align: top;\n",
       "    }\n",
       "\n",
       "    .dataframe thead th {\n",
       "        text-align: right;\n",
       "    }\n",
       "</style>\n",
       "<table border=\"1\" class=\"dataframe\">\n",
       "  <thead>\n",
       "    <tr style=\"text-align: right;\">\n",
       "      <th></th>\n",
       "      <th>prov_space_m</th>\n",
       "    </tr>\n",
       "    <tr>\n",
       "      <th>prov_best</th>\n",
       "      <th></th>\n",
       "    </tr>\n",
       "  </thead>\n",
       "  <tbody>\n",
       "    <tr>\n",
       "      <th>Mpumalanga</th>\n",
       "      <td>0.872460</td>\n",
       "    </tr>\n",
       "    <tr>\n",
       "      <th>Gauteng</th>\n",
       "      <td>0.872104</td>\n",
       "    </tr>\n",
       "    <tr>\n",
       "      <th>North West</th>\n",
       "      <td>0.865585</td>\n",
       "    </tr>\n",
       "    <tr>\n",
       "      <th>Free State</th>\n",
       "      <td>0.839613</td>\n",
       "    </tr>\n",
       "    <tr>\n",
       "      <th>Western Cape</th>\n",
       "      <td>0.836897</td>\n",
       "    </tr>\n",
       "    <tr>\n",
       "      <th>Northern Cape</th>\n",
       "      <td>0.806530</td>\n",
       "    </tr>\n",
       "    <tr>\n",
       "      <th>Limpopo</th>\n",
       "      <td>0.798429</td>\n",
       "    </tr>\n",
       "    <tr>\n",
       "      <th>Eastern Cape</th>\n",
       "      <td>0.756221</td>\n",
       "    </tr>\n",
       "  </tbody>\n",
       "</table>\n",
       "</div>"
      ],
      "text/plain": [
       "               prov_space_m\n",
       "prov_best                  \n",
       "Mpumalanga         0.872460\n",
       "Gauteng            0.872104\n",
       "North West         0.865585\n",
       "Free State         0.839613\n",
       "Western Cape       0.836897\n",
       "Northern Cape      0.806530\n",
       "Limpopo            0.798429\n",
       "Eastern Cape       0.756221"
      ]
     },
     "execution_count": 73,
     "metadata": {},
     "output_type": "execute_result"
    }
   ],
   "source": [
    "positive_2[['prov_space_m','prov_best']].groupby(by='prov_best').mean().sort_values(by='prov_space_m')[::-1]"
   ]
  },
  {
   "cell_type": "code",
   "execution_count": 74,
   "id": "9db9f89a",
   "metadata": {},
   "outputs": [
    {
     "data": {
      "text/html": [
       "<div>\n",
       "<style scoped>\n",
       "    .dataframe tbody tr th:only-of-type {\n",
       "        vertical-align: middle;\n",
       "    }\n",
       "\n",
       "    .dataframe tbody tr th {\n",
       "        vertical-align: top;\n",
       "    }\n",
       "\n",
       "    .dataframe thead th {\n",
       "        text-align: right;\n",
       "    }\n",
       "</style>\n",
       "<table border=\"1\" class=\"dataframe\">\n",
       "  <thead>\n",
       "    <tr style=\"text-align: right;\">\n",
       "      <th></th>\n",
       "      <th>prov_space_m</th>\n",
       "    </tr>\n",
       "    <tr>\n",
       "      <th>prov_best</th>\n",
       "      <th></th>\n",
       "    </tr>\n",
       "  </thead>\n",
       "  <tbody>\n",
       "    <tr>\n",
       "      <th>Mpumalanga</th>\n",
       "      <td>NaN</td>\n",
       "    </tr>\n",
       "    <tr>\n",
       "      <th>Gauteng</th>\n",
       "      <td>0.872104</td>\n",
       "    </tr>\n",
       "    <tr>\n",
       "      <th>North West</th>\n",
       "      <td>0.865585</td>\n",
       "    </tr>\n",
       "    <tr>\n",
       "      <th>Western Cape</th>\n",
       "      <td>0.836897</td>\n",
       "    </tr>\n",
       "    <tr>\n",
       "      <th>Eastern Cape</th>\n",
       "      <td>0.756221</td>\n",
       "    </tr>\n",
       "  </tbody>\n",
       "</table>\n",
       "</div>"
      ],
      "text/plain": [
       "              prov_space_m\n",
       "prov_best                 \n",
       "Mpumalanga             NaN\n",
       "Gauteng           0.872104\n",
       "North West        0.865585\n",
       "Western Cape      0.836897\n",
       "Eastern Cape      0.756221"
      ]
     },
     "execution_count": 74,
     "metadata": {},
     "output_type": "execute_result"
    }
   ],
   "source": [
    "positive_3[['prov_space_m','prov_best']].groupby(by='prov_best').mean().sort_values(by='prov_space_m')[::-1]"
   ]
  },
  {
   "cell_type": "code",
   "execution_count": null,
   "id": "86b72bba",
   "metadata": {},
   "outputs": [],
   "source": []
  },
  {
   "cell_type": "code",
   "execution_count": null,
   "id": "fd581502",
   "metadata": {},
   "outputs": [],
   "source": []
  },
  {
   "cell_type": "markdown",
   "id": "740f88fb",
   "metadata": {},
   "source": [
    "# District"
   ]
  },
  {
   "cell_type": "code",
   "execution_count": 75,
   "id": "15447b15",
   "metadata": {},
   "outputs": [
    {
     "data": {
      "image/png": "[encoded data removed]",
      "text/plain": [
       "<Figure size 1080x360 with 1 Axes>"
      ]
     },
     "metadata": {
      "needs_background": "light"
     },
     "output_type": "display_data"
    },
    {
     "data": {
      "image/png": "[encoded data removed]",
      "text/plain": [
       "<Figure size 1080x360 with 1 Axes>"
      ]
     },
     "metadata": {
      "needs_background": "light"
     },
     "output_type": "display_data"
    },
    {
     "data": {
      "image/png": "[encoded data removed]",
      "text/plain": [
       "<Figure size 1080x360 with 1 Axes>"
      ]
     },
     "metadata": {
      "needs_background": "light"
     },
     "output_type": "display_data"
    }
   ],
   "source": [
    "plt.figure(figsize = (15,5))\n",
    "plt.bar(pd.DataFrame(positive_1.id_dc_best.value_counts())[:20].index, pd.DataFrame(positive_1.id_dc_best.value_counts())[:20].id_dc_best)\n",
    "plt.title('top 20 group one positive deviance')\n",
    "plt.xlabel('district')\n",
    "plt.ylabel('count')\n",
    "plt.show()\n",
    "\n",
    "\n",
    "plt.figure(figsize = (15,5))\n",
    "plt.bar(pd.DataFrame(positive_2.id_dc_best.value_counts())[:20].index, pd.DataFrame(positive_2.id_dc_best.value_counts())[:20].id_dc_best)\n",
    "plt.title('Group two positive deviance')\n",
    "plt.xlabel('district')\n",
    "plt.ylabel('count')\n",
    "plt.show()\n",
    "\n",
    "\n",
    "plt.figure(figsize = (15,5))\n",
    "plt.bar(pd.DataFrame(positive_3.id_dc_best.value_counts())[:20].index, pd.DataFrame(positive_3.id_dc_best.value_counts())[:20].id_dc_best)\n",
    "plt.title('Group three positive deviance')\n",
    "plt.xlabel('district')\n",
    "plt.ylabel('count')\n",
    "plt.show()"
   ]
  },
  {
   "cell_type": "markdown",
   "id": "c00fb85c",
   "metadata": {},
   "source": [
    "# enumeraator"
   ]
  },
  {
   "cell_type": "code",
   "execution_count": 76,
   "id": "58b51ba4",
   "metadata": {},
   "outputs": [
    {
     "name": "stdout",
     "output_type": "stream",
     "text": [
      "Goup one positive deviance\n"
     ]
    },
    {
     "data": {
      "text/html": [
       "<div>\n",
       "<style scoped>\n",
       "    .dataframe tbody tr th:only-of-type {\n",
       "        vertical-align: middle;\n",
       "    }\n",
       "\n",
       "    .dataframe tbody tr th {\n",
       "        vertical-align: top;\n",
       "    }\n",
       "\n",
       "    .dataframe thead th {\n",
       "        text-align: right;\n",
       "    }\n",
       "</style>\n",
       "<table border=\"1\" class=\"dataframe\">\n",
       "  <thead>\n",
       "    <tr style=\"text-align: right;\">\n",
       "      <th></th>\n",
       "      <th>count of learners</th>\n",
       "    </tr>\n",
       "  </thead>\n",
       "  <tbody>\n",
       "    <tr>\n",
       "      <th>2683.0</th>\n",
       "      <td>24</td>\n",
       "    </tr>\n",
       "    <tr>\n",
       "      <th>1394.0</th>\n",
       "      <td>14</td>\n",
       "    </tr>\n",
       "    <tr>\n",
       "      <th>2681.0</th>\n",
       "      <td>10</td>\n",
       "    </tr>\n",
       "    <tr>\n",
       "      <th>502.0</th>\n",
       "      <td>10</td>\n",
       "    </tr>\n",
       "    <tr>\n",
       "      <th>545.0</th>\n",
       "      <td>10</td>\n",
       "    </tr>\n",
       "    <tr>\n",
       "      <th>484.0</th>\n",
       "      <td>10</td>\n",
       "    </tr>\n",
       "    <tr>\n",
       "      <th>2799.0</th>\n",
       "      <td>9</td>\n",
       "    </tr>\n",
       "    <tr>\n",
       "      <th>344.0</th>\n",
       "      <td>8</td>\n",
       "    </tr>\n",
       "    <tr>\n",
       "      <th>20011.0</th>\n",
       "      <td>8</td>\n",
       "    </tr>\n",
       "    <tr>\n",
       "      <th>755.0</th>\n",
       "      <td>6</td>\n",
       "    </tr>\n",
       "    <tr>\n",
       "      <th>20009.0</th>\n",
       "      <td>6</td>\n",
       "    </tr>\n",
       "    <tr>\n",
       "      <th>572.0</th>\n",
       "      <td>6</td>\n",
       "    </tr>\n",
       "    <tr>\n",
       "      <th>355.0</th>\n",
       "      <td>5</td>\n",
       "    </tr>\n",
       "    <tr>\n",
       "      <th>540.0</th>\n",
       "      <td>5</td>\n",
       "    </tr>\n",
       "    <tr>\n",
       "      <th>2690.0</th>\n",
       "      <td>5</td>\n",
       "    </tr>\n",
       "    <tr>\n",
       "      <th>20007.0</th>\n",
       "      <td>4</td>\n",
       "    </tr>\n",
       "    <tr>\n",
       "      <th>20021.0</th>\n",
       "      <td>4</td>\n",
       "    </tr>\n",
       "    <tr>\n",
       "      <th>20030.0</th>\n",
       "      <td>3</td>\n",
       "    </tr>\n",
       "    <tr>\n",
       "      <th>20058.0</th>\n",
       "      <td>3</td>\n",
       "    </tr>\n",
       "    <tr>\n",
       "      <th>1301.0</th>\n",
       "      <td>3</td>\n",
       "    </tr>\n",
       "  </tbody>\n",
       "</table>\n",
       "</div>"
      ],
      "text/plain": [
       "         count of learners\n",
       "2683.0                  24\n",
       "1394.0                  14\n",
       "2681.0                  10\n",
       "502.0                   10\n",
       "545.0                   10\n",
       "484.0                   10\n",
       "2799.0                   9\n",
       "344.0                    8\n",
       "20011.0                  8\n",
       "755.0                    6\n",
       "20009.0                  6\n",
       "572.0                    6\n",
       "355.0                    5\n",
       "540.0                    5\n",
       "2690.0                   5\n",
       "20007.0                  4\n",
       "20021.0                  4\n",
       "20030.0                  3\n",
       "20058.0                  3\n",
       "1301.0                   3"
      ]
     },
     "execution_count": 76,
     "metadata": {},
     "output_type": "execute_result"
    }
   ],
   "source": [
    "en_1 = pd.DataFrame(positive_1.id_enumerator.value_counts()).iloc[:20]\n",
    "en_1.columns = ['count of learners']\n",
    "print('Goup one positive deviance')\n",
    "en_1"
   ]
  },
  {
   "cell_type": "code",
   "execution_count": 77,
   "id": "e6155aee",
   "metadata": {},
   "outputs": [
    {
     "name": "stdout",
     "output_type": "stream",
     "text": [
      "Goup two positive deviance\n"
     ]
    },
    {
     "data": {
      "text/html": [
       "<div>\n",
       "<style scoped>\n",
       "    .dataframe tbody tr th:only-of-type {\n",
       "        vertical-align: middle;\n",
       "    }\n",
       "\n",
       "    .dataframe tbody tr th {\n",
       "        vertical-align: top;\n",
       "    }\n",
       "\n",
       "    .dataframe thead th {\n",
       "        text-align: right;\n",
       "    }\n",
       "</style>\n",
       "<table border=\"1\" class=\"dataframe\">\n",
       "  <thead>\n",
       "    <tr style=\"text-align: right;\">\n",
       "      <th></th>\n",
       "      <th>count of learners</th>\n",
       "    </tr>\n",
       "  </thead>\n",
       "  <tbody>\n",
       "    <tr>\n",
       "      <th>563.0</th>\n",
       "      <td>8</td>\n",
       "    </tr>\n",
       "    <tr>\n",
       "      <th>2762.0</th>\n",
       "      <td>4</td>\n",
       "    </tr>\n",
       "    <tr>\n",
       "      <th>2983.0</th>\n",
       "      <td>4</td>\n",
       "    </tr>\n",
       "    <tr>\n",
       "      <th>1394.0</th>\n",
       "      <td>3</td>\n",
       "    </tr>\n",
       "    <tr>\n",
       "      <th>20020.0</th>\n",
       "      <td>2</td>\n",
       "    </tr>\n",
       "    <tr>\n",
       "      <th>1732.0</th>\n",
       "      <td>2</td>\n",
       "    </tr>\n",
       "    <tr>\n",
       "      <th>1301.0</th>\n",
       "      <td>2</td>\n",
       "    </tr>\n",
       "    <tr>\n",
       "      <th>2683.0</th>\n",
       "      <td>2</td>\n",
       "    </tr>\n",
       "    <tr>\n",
       "      <th>562.0</th>\n",
       "      <td>2</td>\n",
       "    </tr>\n",
       "    <tr>\n",
       "      <th>2691.0</th>\n",
       "      <td>1</td>\n",
       "    </tr>\n",
       "    <tr>\n",
       "      <th>20008.0</th>\n",
       "      <td>1</td>\n",
       "    </tr>\n",
       "    <tr>\n",
       "      <th>2799.0</th>\n",
       "      <td>1</td>\n",
       "    </tr>\n",
       "    <tr>\n",
       "      <th>567.0</th>\n",
       "      <td>1</td>\n",
       "    </tr>\n",
       "    <tr>\n",
       "      <th>349.0</th>\n",
       "      <td>1</td>\n",
       "    </tr>\n",
       "    <tr>\n",
       "      <th>2774.0</th>\n",
       "      <td>1</td>\n",
       "    </tr>\n",
       "    <tr>\n",
       "      <th>1436.0</th>\n",
       "      <td>1</td>\n",
       "    </tr>\n",
       "    <tr>\n",
       "      <th>2796.0</th>\n",
       "      <td>1</td>\n",
       "    </tr>\n",
       "    <tr>\n",
       "      <th>572.0</th>\n",
       "      <td>1</td>\n",
       "    </tr>\n",
       "    <tr>\n",
       "      <th>2681.0</th>\n",
       "      <td>1</td>\n",
       "    </tr>\n",
       "    <tr>\n",
       "      <th>2809.0</th>\n",
       "      <td>1</td>\n",
       "    </tr>\n",
       "  </tbody>\n",
       "</table>\n",
       "</div>"
      ],
      "text/plain": [
       "         count of learners\n",
       "563.0                    8\n",
       "2762.0                   4\n",
       "2983.0                   4\n",
       "1394.0                   3\n",
       "20020.0                  2\n",
       "1732.0                   2\n",
       "1301.0                   2\n",
       "2683.0                   2\n",
       "562.0                    2\n",
       "2691.0                   1\n",
       "20008.0                  1\n",
       "2799.0                   1\n",
       "567.0                    1\n",
       "349.0                    1\n",
       "2774.0                   1\n",
       "1436.0                   1\n",
       "2796.0                   1\n",
       "572.0                    1\n",
       "2681.0                   1\n",
       "2809.0                   1"
      ]
     },
     "execution_count": 77,
     "metadata": {},
     "output_type": "execute_result"
    }
   ],
   "source": [
    "en_2 = pd.DataFrame(positive_2.id_enumerator.value_counts()).iloc[:20]\n",
    "en_2.columns = ['count of learners']\n",
    "print('Goup two positive deviance')\n",
    "en_2"
   ]
  },
  {
   "cell_type": "code",
   "execution_count": 78,
   "id": "51e3733f",
   "metadata": {},
   "outputs": [
    {
     "name": "stdout",
     "output_type": "stream",
     "text": [
      "Goup three positive deviance\n"
     ]
    },
    {
     "data": {
      "text/html": [
       "<div>\n",
       "<style scoped>\n",
       "    .dataframe tbody tr th:only-of-type {\n",
       "        vertical-align: middle;\n",
       "    }\n",
       "\n",
       "    .dataframe tbody tr th {\n",
       "        vertical-align: top;\n",
       "    }\n",
       "\n",
       "    .dataframe thead th {\n",
       "        text-align: right;\n",
       "    }\n",
       "</style>\n",
       "<table border=\"1\" class=\"dataframe\">\n",
       "  <thead>\n",
       "    <tr style=\"text-align: right;\">\n",
       "      <th></th>\n",
       "      <th>count of learners</th>\n",
       "    </tr>\n",
       "  </thead>\n",
       "  <tbody>\n",
       "    <tr>\n",
       "      <th>20009.0</th>\n",
       "      <td>4</td>\n",
       "    </tr>\n",
       "    <tr>\n",
       "      <th>20016.0</th>\n",
       "      <td>1</td>\n",
       "    </tr>\n",
       "    <tr>\n",
       "      <th>20089.0</th>\n",
       "      <td>1</td>\n",
       "    </tr>\n",
       "    <tr>\n",
       "      <th>20030.0</th>\n",
       "      <td>1</td>\n",
       "    </tr>\n",
       "    <tr>\n",
       "      <th>20050.0</th>\n",
       "      <td>1</td>\n",
       "    </tr>\n",
       "    <tr>\n",
       "      <th>562.0</th>\n",
       "      <td>1</td>\n",
       "    </tr>\n",
       "    <tr>\n",
       "      <th>2985.0</th>\n",
       "      <td>1</td>\n",
       "    </tr>\n",
       "    <tr>\n",
       "      <th>2681.0</th>\n",
       "      <td>1</td>\n",
       "    </tr>\n",
       "    <tr>\n",
       "      <th>755.0</th>\n",
       "      <td>1</td>\n",
       "    </tr>\n",
       "  </tbody>\n",
       "</table>\n",
       "</div>"
      ],
      "text/plain": [
       "         count of learners\n",
       "20009.0                  4\n",
       "20016.0                  1\n",
       "20089.0                  1\n",
       "20030.0                  1\n",
       "20050.0                  1\n",
       "562.0                    1\n",
       "2985.0                   1\n",
       "2681.0                   1\n",
       "755.0                    1"
      ]
     },
     "execution_count": 78,
     "metadata": {},
     "output_type": "execute_result"
    }
   ],
   "source": [
    "en_3 = pd.DataFrame(positive_3.id_enumerator.value_counts()).iloc[:20]\n",
    "en_3.columns = ['count of learners']\n",
    "print('Goup three positive deviance')\n",
    "en_3"
   ]
  },
  {
   "cell_type": "markdown",
   "id": "d131ebdb",
   "metadata": {},
   "source": [
    "# language of the child"
   ]
  },
  {
   "cell_type": "code",
   "execution_count": 79,
   "id": "d2754aa8",
   "metadata": {},
   "outputs": [
    {
     "data": {
      "image/png": "[encoded data removed]",
      "text/plain": [
       "<Figure size 864x432 with 1 Axes>"
      ]
     },
     "metadata": {
      "needs_background": "light"
     },
     "output_type": "display_data"
    },
    {
     "data": {
      "image/png": "[encoded data removed]",
      "text/plain": [
       "<Figure size 864x432 with 1 Axes>"
      ]
     },
     "metadata": {
      "needs_background": "light"
     },
     "output_type": "display_data"
    },
    {
     "data": {
      "image/png": "[encoded data removed]",
      "text/plain": [
       "<Figure size 864x432 with 1 Axes>"
      ]
     },
     "metadata": {
      "needs_background": "light"
     },
     "output_type": "display_data"
    }
   ],
   "source": [
    "plt.figure(figsize = (12,6))\n",
    "plt.bar(pd.DataFrame(positive_1.language_child.value_counts()).index, positive_1.language_child.value_counts())\n",
    "plt.title('group one positive deviance')\n",
    "plt.xlabel('language of the child')\n",
    "plt.ylabel('count of learners')\n",
    "plt.show()\n",
    "\n",
    "\n",
    "plt.figure(figsize = (12,6))\n",
    "plt.bar(pd.DataFrame(positive_2.language_child.value_counts()).index, positive_2.language_child.value_counts())\n",
    "plt.title('group two positive deviance')\n",
    "plt.xlabel('language of the child')\n",
    "plt.ylabel('count of learners')\n",
    "plt.show()\n",
    "\n",
    "plt.figure(figsize = (12,6))\n",
    "plt.bar(pd.DataFrame(positive_3.language_child.value_counts()).index, positive_3.language_child.value_counts())\n",
    "plt.title('group three positive deviance')\n",
    "plt.xlabel('language of the child')\n",
    "plt.ylabel('count of learners')\n",
    "plt.show()"
   ]
  },
  {
   "cell_type": "markdown",
   "id": "a00e3edf",
   "metadata": {},
   "source": [
    "# water"
   ]
  },
  {
   "cell_type": "code",
   "execution_count": 82,
   "id": "aa07027e",
   "metadata": {},
   "outputs": [
    {
     "data": {
      "image/png": "[encoded data removed]",
      "text/plain": [
       "<Figure size 1296x432 with 1 Axes>"
      ]
     },
     "metadata": {
      "needs_background": "light"
     },
     "output_type": "display_data"
    },
    {
     "data": {
      "image/png": "[encoded data removed]",
      "text/plain": [
       "<Figure size 1296x432 with 1 Axes>"
      ]
     },
     "metadata": {
      "needs_background": "light"
     },
     "output_type": "display_data"
    }
   ],
   "source": [
    "plt.figure(figsize = (18,6))\n",
    "plt.bar(pd.DataFrame(non_1.obs_water.value_counts()).index, pd.DataFrame(non_1.obs_water.value_counts()).obs_water)\n",
    "plt.title('group one non deviace')\n",
    "plt.ylabel('count of learners')\n",
    "plt.show()\n",
    "\n",
    "plt.figure(figsize = (18,6))\n",
    "plt.bar(pd.DataFrame(positive_1.obs_water.value_counts()).index, pd.DataFrame(positive_1.obs_water.value_counts()).obs_water)\n",
    "plt.title('group one positive deviace')\n",
    "plt.ylabel('count of learners')\n",
    "plt.show()"
   ]
  },
  {
   "cell_type": "code",
   "execution_count": 83,
   "id": "f49bc548",
   "metadata": {},
   "outputs": [
    {
     "data": {
      "image/png": "[encoded data removed]",
      "text/plain": [
       "<Figure size 1296x432 with 1 Axes>"
      ]
     },
     "metadata": {
      "needs_background": "light"
     },
     "output_type": "display_data"
    },
    {
     "data": {
      "image/png": "[encoded data removed]",
      "text/plain": [
       "<Figure size 1296x432 with 1 Axes>"
      ]
     },
     "metadata": {
      "needs_background": "light"
     },
     "output_type": "display_data"
    }
   ],
   "source": [
    "plt.figure(figsize = (18,6))\n",
    "plt.bar(pd.DataFrame(non_2.obs_water.value_counts()).index, pd.DataFrame(non_2.obs_water.value_counts()).obs_water)\n",
    "plt.title('group two non deviace')\n",
    "plt.ylabel('count of learners')\n",
    "plt.show()\n",
    "\n",
    "plt.figure(figsize = (18,6))\n",
    "plt.bar(pd.DataFrame(positive_2.obs_water.value_counts()).index, pd.DataFrame(positive_2.obs_water.value_counts()).obs_water)\n",
    "plt.title('group two positive deviace')\n",
    "plt.ylabel('count of learners')\n",
    "plt.show()"
   ]
  },
  {
   "cell_type": "code",
   "execution_count": 84,
   "id": "bb17591d",
   "metadata": {},
   "outputs": [
    {
     "data": {
      "image/png": "[encoded data removed]",
      "text/plain": [
       "<Figure size 1152x432 with 1 Axes>"
      ]
     },
     "metadata": {
      "needs_background": "light"
     },
     "output_type": "display_data"
    },
    {
     "data": {
      "image/png": "[encoded data removed]",
      "text/plain": [
       "<Figure size 720x432 with 1 Axes>"
      ]
     },
     "metadata": {
      "needs_background": "light"
     },
     "output_type": "display_data"
    }
   ],
   "source": [
    "plt.figure(figsize = (16,6))\n",
    "plt.bar(pd.DataFrame(non_3.obs_water.value_counts()).index, pd.DataFrame(non_3.obs_water.value_counts()).obs_water)\n",
    "plt.title('group three non deviace')\n",
    "plt.ylabel('count of learners')\n",
    "plt.show()\n",
    "\n",
    "plt.figure(figsize = (10,6))\n",
    "plt.bar(pd.DataFrame(positive_3.obs_water.value_counts()).index, pd.DataFrame(positive_3.obs_water.value_counts()).obs_water)\n",
    "plt.title('group three positive deviace')\n",
    "plt.ylabel('count of learners')\n",
    "plt.show()"
   ]
  },
  {
   "cell_type": "markdown",
   "id": "da0a5202",
   "metadata": {},
   "source": [
    "# clossing time"
   ]
  },
  {
   "cell_type": "code",
   "execution_count": 85,
   "id": "04951835",
   "metadata": {},
   "outputs": [
    {
     "name": "stdout",
     "output_type": "stream",
     "text": [
      "group one positive deviance\n"
     ]
    },
    {
     "data": {
      "text/html": [
       "<div>\n",
       "<style scoped>\n",
       "    .dataframe tbody tr th:only-of-type {\n",
       "        vertical-align: middle;\n",
       "    }\n",
       "\n",
       "    .dataframe tbody tr th {\n",
       "        vertical-align: top;\n",
       "    }\n",
       "\n",
       "    .dataframe thead th {\n",
       "        text-align: right;\n",
       "    }\n",
       "</style>\n",
       "<table border=\"1\" class=\"dataframe\">\n",
       "  <thead>\n",
       "    <tr style=\"text-align: right;\">\n",
       "      <th></th>\n",
       "      <th>total number of learners</th>\n",
       "    </tr>\n",
       "  </thead>\n",
       "  <tbody>\n",
       "    <tr>\n",
       "      <th>14</th>\n",
       "      <td>55</td>\n",
       "    </tr>\n",
       "    <tr>\n",
       "      <th>15</th>\n",
       "      <td>55</td>\n",
       "    </tr>\n",
       "    <tr>\n",
       "      <th>13</th>\n",
       "      <td>46</td>\n",
       "    </tr>\n",
       "    <tr>\n",
       "      <th>16</th>\n",
       "      <td>24</td>\n",
       "    </tr>\n",
       "    <tr>\n",
       "      <th>12</th>\n",
       "      <td>11</td>\n",
       "    </tr>\n",
       "    <tr>\n",
       "      <th>17</th>\n",
       "      <td>2</td>\n",
       "    </tr>\n",
       "  </tbody>\n",
       "</table>\n",
       "</div>"
      ],
      "text/plain": [
       "    total number of learners\n",
       "14                        55\n",
       "15                        55\n",
       "13                        46\n",
       "16                        24\n",
       "12                        11\n",
       "17                         2"
      ]
     },
     "execution_count": 85,
     "metadata": {},
     "output_type": "execute_result"
    }
   ],
   "source": [
    "ct_1 = pd.DataFrame(positive_1['pri_time_close_hours'].value_counts())\n",
    "ct_1.columns = ['total number of learners']\n",
    "print('group one positive deviance')\n",
    "ct_1"
   ]
  },
  {
   "cell_type": "code",
   "execution_count": 86,
   "id": "b20f3802",
   "metadata": {},
   "outputs": [
    {
     "name": "stdout",
     "output_type": "stream",
     "text": [
      "group two positive deviance\n"
     ]
    },
    {
     "data": {
      "text/html": [
       "<div>\n",
       "<style scoped>\n",
       "    .dataframe tbody tr th:only-of-type {\n",
       "        vertical-align: middle;\n",
       "    }\n",
       "\n",
       "    .dataframe tbody tr th {\n",
       "        vertical-align: top;\n",
       "    }\n",
       "\n",
       "    .dataframe thead th {\n",
       "        text-align: right;\n",
       "    }\n",
       "</style>\n",
       "<table border=\"1\" class=\"dataframe\">\n",
       "  <thead>\n",
       "    <tr style=\"text-align: right;\">\n",
       "      <th></th>\n",
       "      <th>total number of learners</th>\n",
       "    </tr>\n",
       "  </thead>\n",
       "  <tbody>\n",
       "    <tr>\n",
       "      <th>16</th>\n",
       "      <td>18</td>\n",
       "    </tr>\n",
       "    <tr>\n",
       "      <th>15</th>\n",
       "      <td>16</td>\n",
       "    </tr>\n",
       "    <tr>\n",
       "      <th>14</th>\n",
       "      <td>5</td>\n",
       "    </tr>\n",
       "    <tr>\n",
       "      <th>17</th>\n",
       "      <td>3</td>\n",
       "    </tr>\n",
       "  </tbody>\n",
       "</table>\n",
       "</div>"
      ],
      "text/plain": [
       "    total number of learners\n",
       "16                        18\n",
       "15                        16\n",
       "14                         5\n",
       "17                         3"
      ]
     },
     "execution_count": 86,
     "metadata": {},
     "output_type": "execute_result"
    }
   ],
   "source": [
    "ct_2 = pd.DataFrame(positive_2['pri_time_close_hours'].value_counts())\n",
    "ct_2.columns = ['total number of learners']\n",
    "print('group two positive deviance')\n",
    "ct_2"
   ]
  },
  {
   "cell_type": "code",
   "execution_count": 87,
   "id": "74475bb6",
   "metadata": {},
   "outputs": [
    {
     "name": "stdout",
     "output_type": "stream",
     "text": [
      "group three positive deviance\n"
     ]
    },
    {
     "data": {
      "text/html": [
       "<div>\n",
       "<style scoped>\n",
       "    .dataframe tbody tr th:only-of-type {\n",
       "        vertical-align: middle;\n",
       "    }\n",
       "\n",
       "    .dataframe tbody tr th {\n",
       "        vertical-align: top;\n",
       "    }\n",
       "\n",
       "    .dataframe thead th {\n",
       "        text-align: right;\n",
       "    }\n",
       "</style>\n",
       "<table border=\"1\" class=\"dataframe\">\n",
       "  <thead>\n",
       "    <tr style=\"text-align: right;\">\n",
       "      <th></th>\n",
       "      <th>total number of learners</th>\n",
       "    </tr>\n",
       "  </thead>\n",
       "  <tbody>\n",
       "    <tr>\n",
       "      <th>17</th>\n",
       "      <td>8</td>\n",
       "    </tr>\n",
       "    <tr>\n",
       "      <th>16</th>\n",
       "      <td>2</td>\n",
       "    </tr>\n",
       "    <tr>\n",
       "      <th>18</th>\n",
       "      <td>1</td>\n",
       "    </tr>\n",
       "    <tr>\n",
       "      <th>15</th>\n",
       "      <td>1</td>\n",
       "    </tr>\n",
       "  </tbody>\n",
       "</table>\n",
       "</div>"
      ],
      "text/plain": [
       "    total number of learners\n",
       "17                         8\n",
       "16                         2\n",
       "18                         1\n",
       "15                         1"
      ]
     },
     "execution_count": 87,
     "metadata": {},
     "output_type": "execute_result"
    }
   ],
   "source": [
    "ct_3 = pd.DataFrame(positive_3['pri_time_close_hours'].value_counts())\n",
    "ct_3.columns = ['total number of learners']\n",
    "print('group three positive deviance')\n",
    "ct_3"
   ]
  },
  {
   "cell_type": "markdown",
   "id": "5a194e97",
   "metadata": {},
   "source": [
    "# Opening time"
   ]
  },
  {
   "cell_type": "code",
   "execution_count": 88,
   "id": "490e8639",
   "metadata": {},
   "outputs": [
    {
     "name": "stdout",
     "output_type": "stream",
     "text": [
      "positive group one opening time\n"
     ]
    },
    {
     "data": {
      "text/html": [
       "<div>\n",
       "<style scoped>\n",
       "    .dataframe tbody tr th:only-of-type {\n",
       "        vertical-align: middle;\n",
       "    }\n",
       "\n",
       "    .dataframe tbody tr th {\n",
       "        vertical-align: top;\n",
       "    }\n",
       "\n",
       "    .dataframe thead th {\n",
       "        text-align: right;\n",
       "    }\n",
       "</style>\n",
       "<table border=\"1\" class=\"dataframe\">\n",
       "  <thead>\n",
       "    <tr style=\"text-align: right;\">\n",
       "      <th></th>\n",
       "      <th>count of learners</th>\n",
       "    </tr>\n",
       "  </thead>\n",
       "  <tbody>\n",
       "    <tr>\n",
       "      <th>07</th>\n",
       "      <td>106</td>\n",
       "    </tr>\n",
       "    <tr>\n",
       "      <th>08</th>\n",
       "      <td>64</td>\n",
       "    </tr>\n",
       "    <tr>\n",
       "      <th>06</th>\n",
       "      <td>15</td>\n",
       "    </tr>\n",
       "    <tr>\n",
       "      <th>09</th>\n",
       "      <td>8</td>\n",
       "    </tr>\n",
       "  </tbody>\n",
       "</table>\n",
       "</div>"
      ],
      "text/plain": [
       "    count of learners\n",
       "07                106\n",
       "08                 64\n",
       "06                 15\n",
       "09                  8"
      ]
     },
     "execution_count": 88,
     "metadata": {},
     "output_type": "execute_result"
    }
   ],
   "source": [
    "ot_1 = pd.DataFrame(positive_1['pri_time_open_hours'].value_counts())\n",
    "ot_1.columns = ['count of learners']\n",
    "print('positive group one opening time')\n",
    "ot_1"
   ]
  },
  {
   "cell_type": "code",
   "execution_count": 89,
   "id": "49327101",
   "metadata": {},
   "outputs": [
    {
     "name": "stdout",
     "output_type": "stream",
     "text": [
      "positive group two opening time\n"
     ]
    },
    {
     "data": {
      "text/html": [
       "<div>\n",
       "<style scoped>\n",
       "    .dataframe tbody tr th:only-of-type {\n",
       "        vertical-align: middle;\n",
       "    }\n",
       "\n",
       "    .dataframe tbody tr th {\n",
       "        vertical-align: top;\n",
       "    }\n",
       "\n",
       "    .dataframe thead th {\n",
       "        text-align: right;\n",
       "    }\n",
       "</style>\n",
       "<table border=\"1\" class=\"dataframe\">\n",
       "  <thead>\n",
       "    <tr style=\"text-align: right;\">\n",
       "      <th></th>\n",
       "      <th>count of learners</th>\n",
       "    </tr>\n",
       "  </thead>\n",
       "  <tbody>\n",
       "    <tr>\n",
       "      <th>07</th>\n",
       "      <td>30</td>\n",
       "    </tr>\n",
       "    <tr>\n",
       "      <th>06</th>\n",
       "      <td>10</td>\n",
       "    </tr>\n",
       "    <tr>\n",
       "      <th>08</th>\n",
       "      <td>2</td>\n",
       "    </tr>\n",
       "  </tbody>\n",
       "</table>\n",
       "</div>"
      ],
      "text/plain": [
       "    count of learners\n",
       "07                 30\n",
       "06                 10\n",
       "08                  2"
      ]
     },
     "execution_count": 89,
     "metadata": {},
     "output_type": "execute_result"
    }
   ],
   "source": [
    "ot_2 = pd.DataFrame(positive_2['pri_time_open_hours'].value_counts())\n",
    "ot_2.columns = ['count of learners']\n",
    "print('positive group two opening time')\n",
    "ot_2"
   ]
  },
  {
   "cell_type": "code",
   "execution_count": 90,
   "id": "7262a300",
   "metadata": {},
   "outputs": [
    {
     "name": "stdout",
     "output_type": "stream",
     "text": [
      "positive group three opening time\n"
     ]
    },
    {
     "data": {
      "text/html": [
       "<div>\n",
       "<style scoped>\n",
       "    .dataframe tbody tr th:only-of-type {\n",
       "        vertical-align: middle;\n",
       "    }\n",
       "\n",
       "    .dataframe tbody tr th {\n",
       "        vertical-align: top;\n",
       "    }\n",
       "\n",
       "    .dataframe thead th {\n",
       "        text-align: right;\n",
       "    }\n",
       "</style>\n",
       "<table border=\"1\" class=\"dataframe\">\n",
       "  <thead>\n",
       "    <tr style=\"text-align: right;\">\n",
       "      <th></th>\n",
       "      <th>count of learners</th>\n",
       "    </tr>\n",
       "  </thead>\n",
       "  <tbody>\n",
       "    <tr>\n",
       "      <th>07</th>\n",
       "      <td>7</td>\n",
       "    </tr>\n",
       "    <tr>\n",
       "      <th>06</th>\n",
       "      <td>5</td>\n",
       "    </tr>\n",
       "  </tbody>\n",
       "</table>\n",
       "</div>"
      ],
      "text/plain": [
       "    count of learners\n",
       "07                  7\n",
       "06                  5"
      ]
     },
     "execution_count": 90,
     "metadata": {},
     "output_type": "execute_result"
    }
   ],
   "source": [
    "ot_3 = pd.DataFrame(positive_3['pri_time_open_hours'].value_counts())\n",
    "ot_3.columns = ['count of learners']\n",
    "print('positive group three opening time')\n",
    "ot_3"
   ]
  },
  {
   "cell_type": "markdown",
   "id": "662fdd5a",
   "metadata": {},
   "source": [
    "# number of school days"
   ]
  },
  {
   "cell_type": "code",
   "execution_count": 91,
   "id": "12e09e0f",
   "metadata": {},
   "outputs": [
    {
     "data": {
      "text/plain": [
       "5.0    193\n",
       "Name: pri_days, dtype: int64"
      ]
     },
     "execution_count": 91,
     "metadata": {},
     "output_type": "execute_result"
    }
   ],
   "source": [
    "positive_1['pri_days'].value_counts()"
   ]
  },
  {
   "cell_type": "code",
   "execution_count": 92,
   "id": "a59930f4",
   "metadata": {},
   "outputs": [
    {
     "data": {
      "text/plain": [
       "5.0    42\n",
       "Name: pri_days, dtype: int64"
      ]
     },
     "execution_count": 92,
     "metadata": {},
     "output_type": "execute_result"
    }
   ],
   "source": [
    "positive_2['pri_days'].value_counts()"
   ]
  },
  {
   "cell_type": "code",
   "execution_count": 93,
   "id": "f4924435",
   "metadata": {},
   "outputs": [
    {
     "data": {
      "text/plain": [
       "5.0    12\n",
       "Name: pri_days, dtype: int64"
      ]
     },
     "execution_count": 93,
     "metadata": {},
     "output_type": "execute_result"
    }
   ],
   "source": [
    "positive_3['pri_days'].value_counts()"
   ]
  },
  {
   "cell_type": "markdown",
   "id": "f8ce0347",
   "metadata": {},
   "source": [
    "# id_dc_n"
   ]
  },
  {
   "cell_type": "code",
   "execution_count": 94,
   "id": "ca74fb31",
   "metadata": {},
   "outputs": [
    {
     "data": {
      "text/plain": [
       "366.0     26\n",
       "163.0     23\n",
       "441.0     19\n",
       "116.0     13\n",
       "123.0     13\n",
       "596.0     10\n",
       "27.0       9\n",
       "494.0      8\n",
       "1448.0     8\n",
       "87.0       8\n",
       "315.0      8\n",
       "119.0      7\n",
       "83.0       7\n",
       "190.0      7\n",
       "28.0       4\n",
       "367.0      4\n",
       "168.0      3\n",
       "141.0      3\n",
       "629.0      3\n",
       "72.0       3\n",
       "31.0       3\n",
       "78.0       2\n",
       "95.0       2\n",
       "186.0      2\n",
       "41.0       1\n",
       "108.0      1\n",
       "422.0      1\n",
       "118.0      1\n",
       "157.0      1\n",
       "220.0      1\n",
       "34.0       1\n",
       "Name: id_dc_n, dtype: int64"
      ]
     },
     "execution_count": 94,
     "metadata": {},
     "output_type": "execute_result"
    }
   ],
   "source": [
    "positive_1['id_dc_n'].value_counts()"
   ]
  },
  {
   "cell_type": "code",
   "execution_count": 95,
   "id": "c24800f4",
   "metadata": {},
   "outputs": [
    {
     "data": {
      "text/plain": [
       "207.0     6\n",
       "90.0      4\n",
       "494.0     4\n",
       "139.0     3\n",
       "366.0     3\n",
       "24.0      3\n",
       "695.0     2\n",
       "296.0     2\n",
       "119.0     2\n",
       "95.0      2\n",
       "629.0     2\n",
       "246.0     2\n",
       "134.0     1\n",
       "1448.0    1\n",
       "152.0     1\n",
       "441.0     1\n",
       "190.0     1\n",
       "220.0     1\n",
       "45.0      1\n",
       "Name: id_dc_n, dtype: int64"
      ]
     },
     "execution_count": 95,
     "metadata": {},
     "output_type": "execute_result"
    }
   ],
   "source": [
    "positive_2['id_dc_n'].value_counts()"
   ]
  },
  {
   "cell_type": "code",
   "execution_count": 96,
   "id": "762bf03b",
   "metadata": {},
   "outputs": [
    {
     "data": {
      "text/plain": [
       "629.0     5\n",
       "494.0     1\n",
       "78.0      1\n",
       "1448.0    1\n",
       "152.0     1\n",
       "134.0     1\n",
       "163.0     1\n",
       "Name: id_dc_n, dtype: int64"
      ]
     },
     "execution_count": 96,
     "metadata": {},
     "output_type": "execute_result"
    }
   ],
   "source": [
    "positive_3['id_dc_n'].value_counts()"
   ]
  },
  {
   "cell_type": "markdown",
   "id": "d97a3042",
   "metadata": {},
   "source": [
    "# facility"
   ]
  },
  {
   "cell_type": "code",
   "execution_count": 97,
   "id": "b04fa3d8",
   "metadata": {},
   "outputs": [
    {
     "data": {
      "text/plain": [
       "1511.0    6\n",
       "1613.0    4\n",
       "285.0     4\n",
       "615.0     4\n",
       "1083.0    3\n",
       "         ..\n",
       "1071.0    1\n",
       "185.0     1\n",
       "1440.0    1\n",
       "850.0     1\n",
       "1795.0    1\n",
       "Name: id_facility, Length: 144, dtype: int64"
      ]
     },
     "execution_count": 97,
     "metadata": {},
     "output_type": "execute_result"
    }
   ],
   "source": [
    "positive_1['id_facility'].value_counts()"
   ]
  },
  {
   "cell_type": "code",
   "execution_count": 98,
   "id": "e5bc9bb3",
   "metadata": {},
   "outputs": [
    {
     "data": {
      "text/plain": [
       "1943.0    2\n",
       "1000.0    2\n",
       "15.0      2\n",
       "515.0     2\n",
       "1270.0    2\n",
       "1945.0    1\n",
       "1345.0    1\n",
       "1328.0    1\n",
       "1428.0    1\n",
       "864.0     1\n",
       "1118.0    1\n",
       "1955.0    1\n",
       "1921.0    1\n",
       "1449.0    1\n",
       "1934.0    1\n",
       "20.0      1\n",
       "9.0       1\n",
       "962.0     1\n",
       "1636.0    1\n",
       "155.0     1\n",
       "714.0     1\n",
       "1110.0    1\n",
       "1236.0    1\n",
       "1306.0    1\n",
       "942.0     1\n",
       "137.0     1\n",
       "230.0     1\n",
       "609.0     1\n",
       "348.0     1\n",
       "175.0     1\n",
       "1648.0    1\n",
       "1156.0    1\n",
       "881.0     1\n",
       "929.0     1\n",
       "909.0     1\n",
       "1065.0    1\n",
       "936.0     1\n",
       "Name: id_facility, dtype: int64"
      ]
     },
     "execution_count": 98,
     "metadata": {},
     "output_type": "execute_result"
    }
   ],
   "source": [
    "positive_2['id_facility'].value_counts()"
   ]
  },
  {
   "cell_type": "code",
   "execution_count": 99,
   "id": "61279035",
   "metadata": {},
   "outputs": [
    {
     "data": {
      "text/plain": [
       "463.0     3\n",
       "1539.0    1\n",
       "1709.0    1\n",
       "1151.0    1\n",
       "1101.0    1\n",
       "1147.0    1\n",
       "191.0     1\n",
       "1700.0    1\n",
       "1262.0    1\n",
       "146.0     1\n",
       "Name: id_facility, dtype: int64"
      ]
     },
     "execution_count": 99,
     "metadata": {},
     "output_type": "execute_result"
    }
   ],
   "source": [
    "positive_3['id_facility'].value_counts()"
   ]
  },
  {
   "cell_type": "code",
   "execution_count": null,
   "id": "817ae3a0",
   "metadata": {},
   "outputs": [],
   "source": []
  },
  {
   "cell_type": "code",
   "execution_count": null,
   "id": "b8796791",
   "metadata": {},
   "outputs": [],
   "source": []
  },
  {
   "cell_type": "code",
   "execution_count": null,
   "id": "01046ecd",
   "metadata": {},
   "outputs": [],
   "source": []
  },
  {
   "cell_type": "code",
   "execution_count": null,
   "id": "c60b8a34",
   "metadata": {},
   "outputs": [],
   "source": []
  },
  {
   "cell_type": "code",
   "execution_count": null,
   "id": "2a395071",
   "metadata": {},
   "outputs": [],
   "source": []
  },
  {
   "cell_type": "code",
   "execution_count": null,
   "id": "24f7b6e4",
   "metadata": {},
   "outputs": [],
   "source": []
  },
  {
   "cell_type": "code",
   "execution_count": null,
   "id": "1224a77e",
   "metadata": {},
   "outputs": [],
   "source": []
  },
  {
   "cell_type": "code",
   "execution_count": null,
   "id": "cd94fbc8",
   "metadata": {},
   "outputs": [],
   "source": []
  }
 ],
 "metadata": {
  "kernelspec": {
   "display_name": "Python 3 (ipykernel)",
   "language": "python",
   "name": "python3"
  },
  "language_info": {
   "codemirror_mode": {
    "name": "ipython",
    "version": 3
   },
   "file_extension": ".py",
   "mimetype": "text/x-python",
   "name": "python",
   "nbconvert_exporter": "python",
   "pygments_lexer": "ipython3",
   "version": "3.9.7"
  }
 },
 "nbformat": 4,
 "nbformat_minor": 5
}
